{
 "cells": [
  {
   "cell_type": "code",
   "execution_count": 588,
   "metadata": {},
   "outputs": [],
   "source": [
    "import numpy as np\n",
    "from sklearn.utils import shuffle\n",
    "from sklearn.preprocessing import scale\n",
    "import matplotlib as plt\n",
    "%matplotlib inline"
   ]
  },
  {
   "cell_type": "code",
   "execution_count": 716,
   "metadata": {},
   "outputs": [],
   "source": [
    "def graph(formula, x_range):  \n",
    "    x = np.array(x_range)  \n",
    "    y = eval(formula)\n",
    "    plt.pyplot.scatter(x = data[:,0], y = data[:,1], c = data[:,-1], cmap=plt.colors.ListedColormap(colors))\n",
    "    plt.pyplot.plot(x, y)  \n",
    "    plt.pyplot.show()"
   ]
  },
  {
   "cell_type": "markdown",
   "metadata": {},
   "source": [
    "### Generate Data"
   ]
  },
  {
   "cell_type": "code",
   "execution_count": 704,
   "metadata": {},
   "outputs": [],
   "source": [
    "mean1 = [-5,-5]\n",
    "mean2 = [5,5]\n",
    "cov = [3,0],[0,3]\n",
    "size = [100]"
   ]
  },
  {
   "cell_type": "code",
   "execution_count": 705,
   "metadata": {},
   "outputs": [],
   "source": [
    "data1 = np.random.multivariate_normal(mean1, cov, size)\n",
    "data2 = np.random.multivariate_normal(mean2, cov, size)\n",
    "labels1 = np.ones((100,1))\n",
    "labels2 = np.ones((100,1))*-1\n",
    "data1 = np.hstack((data1, np.ones((100,1)), labels1))\n",
    "data2 = np.hstack((data2, np.ones((100,1)),labels2))\n",
    "data = np.vstack((data1,data2))\n",
    "data = shuffle(data)"
   ]
  },
  {
   "cell_type": "code",
   "execution_count": 715,
   "metadata": {},
   "outputs": [
    {
     "data": {
      "text/plain": [
       "<matplotlib.collections.PathCollection at 0x119709da0>"
      ]
     },
     "execution_count": 715,
     "metadata": {},
     "output_type": "execute_result"
    },
    {
     "data": {
      "image/png": "[encoded data removed]",
      "text/plain": [
       "<matplotlib.figure.Figure at 0x118fe0208>"
      ]
     },
     "metadata": {},
     "output_type": "display_data"
    }
   ],
   "source": [
    "colors = ['red','green']\n",
    "plt.pyplot.scatter(x = data[:,0], y = data[:,1], c = data[:,-1], cmap=plt.colors.ListedColormap(colors))"
   ]
  },
  {
   "cell_type": "markdown",
   "metadata": {},
   "source": [
    "### Initiate Weights, tuning paramets etc..."
   ]
  },
  {
   "cell_type": "markdown",
   "metadata": {},
   "source": [
    "### Delta rule"
   ]
  },
  {
   "cell_type": "code",
   "execution_count": 701,
   "metadata": {},
   "outputs": [],
   "source": [
    "def delta(data, weights, n):\n",
    "    inner_matrix = (np.dot(weights,np.transpose(data[:,:-1]))-data[:,-1])\n",
    "    return np.dot(inner_matrix,data[:,:-1])*-n"
   ]
  },
  {
   "cell_type": "code",
   "execution_count": 702,
   "metadata": {},
   "outputs": [],
   "source": [
    "def update_weights(data,weights,n):\n",
    "    delta_ = delta(data,weights,n)\n",
    "    new_weights = weights + delta_\n",
    "    print(sum(delta_[0]))\n",
    "    return new_weights/sum(new_weights[0])"
   ]
  },
  {
   "cell_type": "code",
   "execution_count": null,
   "metadata": {
    "scrolled": false
   },
   "outputs": [],
   "source": [
    "weights = np.random.normal(0,1,[1,3])\n",
    "n = 0.01\n",
    "for i in range(5):\n",
    "    line = '{}*x-{}'.format(-weights[0][0]/weights[0][1],weights[0][2]/weights[0][1])\n",
    "    graph(line, range(-20, 20))\n",
    "    weights = update_weights(data,weights,n)"
   ]
  },
  {
   "cell_type": "markdown",
   "metadata": {},
   "source": [
    "### Feed forward"
   ]
  },
  {
   "cell_type": "code",
   "execution_count": 737,
   "metadata": {},
   "outputs": [],
   "source": [
    "weights = np.random.normal(0,1,[3,2])"
   ]
  },
  {
   "cell_type": "code",
   "execution_count": 738,
   "metadata": {},
   "outputs": [
    {
     "data": {
      "text/plain": [
       "array([[ 0.39447141, -1.30049054],\n",
       "       [-0.28901895, -0.42020039],\n",
       "       [-0.65101292, -0.16499774]])"
      ]
     },
     "execution_count": 738,
     "metadata": {},
     "output_type": "execute_result"
    }
   ],
   "source": [
    "weights"
   ]
  },
  {
   "cell_type": "code",
   "execution_count": 756,
   "metadata": {},
   "outputs": [],
   "source": [
    "def transfer_function(x):\n",
    "    return 2/(1+np.exp(-x))-1\n",
    "\n",
    "def transfer_derivative(x):\n",
    "    f = transfer_function(x)\n",
    "    return (1+f)*(1-f)/2\n",
    "\n",
    "def forward_pass(data, weights, layer):\n",
    "    inner_matrix = np.dot(weights[:,layer],np.transpose(data[:,:-1]))\n",
    "    return np.vectorize(transfer_function)(inner_matrix)\n"
   ]
  },
  {
   "cell_type": "code",
   "execution_count": 757,
   "metadata": {},
   "outputs": [],
   "source": [
    "def backward_pass(x, y):\n",
    "    return np.multiply(x,transfer_derivative(y))\n",
    "\n",
    "def first_backward_pass(out, labels):\n",
    "    return backward_pass(out-labels,labels)\n",
    "\n",
    "def second_backward_pass(V,H,delta_o):\n",
    "    return backward_pass(np.dot(np.transpose(V),delta_o),H)\n",
    "    "
   ]
  },
  {
   "cell_type": "code",
   "execution_count": 759,
   "metadata": {},
   "outputs": [],
   "source": [
    "H = forward_pass(data, weights, 0)"
   ]
  },
  {
   "cell_type": "code",
   "execution_count": 766,
   "metadata": {},
   "outputs": [
    {
     "data": {
      "text/plain": [
       "(3, 200)"
      ]
     },
     "execution_count": 766,
     "metadata": {},
     "output_type": "execute_result"
    }
   ],
   "source": [
    "np.shape(np.transpose(data[:,:-1]))"
   ]
  },
  {
   "cell_type": "code",
   "execution_count": 773,
   "metadata": {},
   "outputs": [
    {
     "data": {
      "text/plain": [
       "(200,)"
      ]
     },
     "execution_count": 773,
     "metadata": {},
     "output_type": "execute_result"
    }
   ],
   "source": [
    "np.shape(H)"
   ]
  },
  {
   "cell_type": "code",
   "execution_count": null,
   "metadata": {},
   "outputs": [],
   "source": []
  }
 ],
 "metadata": {
  "kernelspec": {
   "display_name": "Python 3",
   "language": "python",
   "name": "python3"
  },
  "language_info": {
   "codemirror_mode": {
    "name": "ipython",
    "version": 3
   },
   "file_extension": ".py",
   "mimetype": "text/x-python",
   "name": "python",
   "nbconvert_exporter": "python",
   "pygments_lexer": "ipython3",
   "version": "3.5.2"
  }
 },
 "nbformat": 4,
 "nbformat_minor": 2
}
