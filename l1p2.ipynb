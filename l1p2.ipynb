{
 "cells": [
  {
   "cell_type": "code",
   "execution_count": 1,
   "metadata": {
    "collapsed": false
   },
   "outputs": [],
   "source": [
    "import tensorflow as tf # TODO"
   ]
  },
  {
   "cell_type": "code",
   "execution_count": 2,
   "metadata": {
    "collapsed": true
   },
   "outputs": [],
   "source": [
    "import numpy as np\n",
    "import matplotlib.pyplot as plt\n",
    "% matplotlib inline"
   ]
  },
  {
   "cell_type": "code",
   "execution_count": 3,
   "metadata": {
    "collapsed": true
   },
   "outputs": [],
   "source": [
    "# Parameters\n",
    "learning_rate = 0.1\n",
    "training_epochs = 200\n",
    "batch_size = 50\n",
    "display_step = 5\n",
    "beta = 0.1"
   ]
  },
  {
   "cell_type": "code",
   "execution_count": 4,
   "metadata": {
    "collapsed": false
   },
   "outputs": [],
   "source": [
    "def mackey_glass(t, t25):\n",
    "    return 0.9 * t + 0.2*t25/(1+t25**10) + np.random.normal(0, 0.03, 1)\n",
    "fdata = [1.5]\n",
    "for i in range(1525):\n",
    "    fdata.append(mackey_glass(fdata[i], fdata[i - 25] if i > 25 else 0))"
   ]
  },
  {
   "cell_type": "code",
   "execution_count": 5,
   "metadata": {
    "collapsed": false
   },
   "outputs": [],
   "source": [
    "def create_mg_series(i, data):\n",
    "    return np.asarray([data[i-20], data[i-15], data[i-10], data[i-5], data[i]])\n",
    "\n",
    "train_X = np.asarray(list(map(lambda x: create_mg_series(x, fdata), range(301, 800))))\n",
    "train_Y = np.asarray(list(map(lambda x: fdata[x+5], range(301, 800))))\n",
    "validation_X = np.asarray(list(map(lambda x: create_mg_series(x, fdata), range(801, 1300))))\n",
    "validation_Y = np.asarray(list(map(lambda x: fdata[x+5], range(801, 1300))))\n",
    "test_X = np.asarray(list(map(lambda x: create_mg_series(x, fdata), range(1301, 1500))))\n",
    "test_Y = np.asarray(list(map(lambda x: fdata[x+5], range(1301, 1500))))"
   ]
  },
  {
   "cell_type": "code",
   "execution_count": 6,
   "metadata": {
    "collapsed": true
   },
   "outputs": [],
   "source": [
    "# X Y\n",
    "X = tf.placeholder(tf.float32, [1,5], name='x')  # 5 inputs\n",
    "Y = tf.placeholder(tf.float32,name='y')  # 1 output\n",
    "\n",
    "# hidden layer 1\n",
    "W1 = tf.Variable(tf.truncated_normal([5, 8], stddev=0.03), name='W1')\n",
    "b1 = tf.Variable(tf.truncated_normal([8]), name='b1')\n",
    "\n",
    "# hidden layer 2\n",
    "W2 = tf.Variable(tf.truncated_normal([8, 5], stddev=0.03), name='W2')\n",
    "b2 = tf.Variable(tf.truncated_normal([5]), name='b2')"
   ]
  },
  {
   "cell_type": "code",
   "execution_count": 7,
   "metadata": {
    "collapsed": true
   },
   "outputs": [],
   "source": [
    "# output hidden layer 1\n",
    "hidden_out = tf.nn.relu(tf.add(tf.matmul(X, W1), b1))\n",
    "\n",
    "# total output\n",
    "y_ = tf.nn.relu(tf.add(tf.matmul(hidden_out, W2), b2))"
   ]
  },
  {
   "cell_type": "code",
   "execution_count": 8,
   "metadata": {
    "collapsed": true
   },
   "outputs": [],
   "source": [
    "mse = tf.losses.mean_squared_error(Y, y_)"
   ]
  },
  {
   "cell_type": "code",
   "execution_count": 9,
   "metadata": {
    "collapsed": true
   },
   "outputs": [],
   "source": [
    "optimizer = tf.train.GradientDescentOptimizer(learning_rate=learning_rate).minimize(mse)"
   ]
  },
  {
   "cell_type": "code",
   "execution_count": 10,
   "metadata": {
    "collapsed": true
   },
   "outputs": [],
   "source": [
    "# initialize variables\n",
    "init_op = tf.global_variables_initializer()"
   ]
  },
  {
   "cell_type": "code",
   "execution_count": null,
   "metadata": {
    "collapsed": false,
    "scrolled": false
   },
   "outputs": [
    {
     "name": "stdout",
     "output_type": "stream",
     "text": [
      "Epoch: 0001 cost= 0.714517563 vcost= 0.008952282\n",
      "Epoch: 0002 cost= 0.712068870 vcost= 0.008927807\n",
      "Epoch: 0003 cost= 0.711496371 vcost= 0.008921943\n",
      "Epoch: 0004 cost= 0.711099679 vcost= 0.008917980\n",
      "Epoch: 0005 cost= 0.710812853 vcost= 0.008915168\n",
      "Epoch: 0006 cost= 0.710601227 vcost= 0.008913118\n",
      "Epoch: 0007 cost= 0.710445706 vcost= 0.008911617\n",
      "Epoch: 0008 cost= 0.710335631 vcost= 0.008910545\n",
      "Epoch: 0009 cost= 0.710265219 vcost= 0.008909834\n",
      "Epoch: 0010 cost= 0.710231711 vcost= 0.008909450\n",
      "Epoch: 0011 cost= 0.710234048 vcost= 0.008909378\n",
      "Epoch: 0012 cost= 0.710271778 vcost= 0.008909611\n",
      "Epoch: 0013 cost= 0.710343771 vcost= 0.008910142\n",
      "Epoch: 0014 cost= 0.710446814 vcost= 0.008910946\n",
      "Epoch: 0015 cost= 0.710574160 vcost= 0.008911974\n",
      "Epoch: 0016 cost= 0.710714671 vcost= 0.008913140\n",
      "Epoch: 0017 cost= 0.710853313 vcost= 0.008914328\n",
      "Epoch: 0018 cost= 0.710973533 vcost= 0.008915406\n",
      "Epoch: 0019 cost= 0.711061299 vcost= 0.008916262\n",
      "Epoch: 0020 cost= 0.711109122 vcost= 0.008916826\n",
      "Epoch: 0021 cost= 0.711117935 vcost= 0.008917093\n",
      "Epoch: 0022 cost= 0.711095769 vcost= 0.008917110\n",
      "Epoch: 0023 cost= 0.711054196 vcost= 0.008916952\n",
      "Epoch: 0024 cost= 0.711004449 vcost= 0.008916699\n",
      "Epoch: 0025 cost= 0.710955000 vcost= 0.008916412\n",
      "Epoch: 0026 cost= 0.710910817 vcost= 0.008916131\n",
      "Epoch: 0027 cost= 0.710873930 vcost= 0.008915874\n",
      "Epoch: 0028 cost= 0.710844465 vcost= 0.008915649\n",
      "Epoch: 0029 cost= 0.710821638 vcost= 0.008915454\n",
      "Epoch: 0030 cost= 0.710804426 vcost= 0.008915287\n",
      "Epoch: 0031 cost= 0.710791867 vcost= 0.008915145\n",
      "Epoch: 0032 cost= 0.710783226 vcost= 0.008915027\n",
      "Epoch: 0033 cost= 0.710777919 vcost= 0.008914931\n",
      "Epoch: 0034 cost= 0.710775478 vcost= 0.008914856\n",
      "Epoch: 0035 cost= 0.710775470 vcost= 0.008914802\n",
      "Epoch: 0036 cost= 0.710777457 vcost= 0.008914765\n",
      "Epoch: 0037 cost= 0.710781017 vcost= 0.008914744\n",
      "Epoch: 0038 cost= 0.710785677 vcost= 0.008914735\n",
      "Epoch: 0039 cost= 0.710790999 vcost= 0.008914735\n",
      "Epoch: 0040 cost= 0.710796584 vcost= 0.008914741\n",
      "Epoch: 0041 cost= 0.710802065 vcost= 0.008914750\n",
      "Epoch: 0042 cost= 0.710807166 vcost= 0.008914758\n",
      "Epoch: 0043 cost= 0.710811689 vcost= 0.008914765\n",
      "Epoch: 0044 cost= 0.710815528 vcost= 0.008914768\n",
      "Epoch: 0045 cost= 0.710818654 vcost= 0.008914768\n",
      "Epoch: 0046 cost= 0.710821095 vcost= 0.008914763\n",
      "Epoch: 0047 cost= 0.710822944 vcost= 0.008914754\n",
      "Epoch: 0048 cost= 0.710824299 vcost= 0.008914742\n",
      "Epoch: 0049 cost= 0.710825298 vcost= 0.008914727\n",
      "Epoch: 0050 cost= 0.710826055 vcost= 0.008914710\n",
      "Epoch: 0051 cost= 0.710826691 vcost= 0.008914692\n",
      "Epoch: 0052 cost= 0.710827305 vcost= 0.008914674\n",
      "Epoch: 0053 cost= 0.710827963 vcost= 0.008914656\n",
      "Epoch: 0054 cost= 0.710828722 vcost= 0.008914639\n",
      "Epoch: 0055 cost= 0.710829611 vcost= 0.008914622\n",
      "Epoch: 0056 cost= 0.710830648 vcost= 0.008914608\n",
      "Epoch: 0057 cost= 0.710831823 vcost= 0.008914594\n",
      "Epoch: 0058 cost= 0.710833134 vcost= 0.008914582\n",
      "Epoch: 0059 cost= 0.710834540 vcost= 0.008914572\n",
      "Epoch: 0060 cost= 0.710836043 vcost= 0.008914562\n",
      "Epoch: 0061 cost= 0.710837603 vcost= 0.008914554\n",
      "Epoch: 0062 cost= 0.710839196 vcost= 0.008914548\n",
      "Epoch: 0063 cost= 0.710840813 vcost= 0.008914542\n",
      "Epoch: 0064 cost= 0.710842428 vcost= 0.008914537\n",
      "Epoch: 0065 cost= 0.710844040 vcost= 0.008914532\n",
      "Epoch: 0066 cost= 0.710845643 vcost= 0.008914529\n",
      "Epoch: 0067 cost= 0.710847226 vcost= 0.008914527\n",
      "Epoch: 0068 cost= 0.710848802 vcost= 0.008914525\n",
      "Epoch: 0069 cost= 0.710850371 vcost= 0.008914524\n",
      "Epoch: 0070 cost= 0.710851945 vcost= 0.008914525\n",
      "Epoch: 0071 cost= 0.710853512 vcost= 0.008914526\n",
      "Epoch: 0072 cost= 0.710855095 vcost= 0.008914528\n",
      "Epoch: 0073 cost= 0.710856680 vcost= 0.008914531\n",
      "Epoch: 0074 cost= 0.710858286 vcost= 0.008914535\n",
      "Epoch: 0075 cost= 0.710859910 vcost= 0.008914541\n",
      "Epoch: 0076 cost= 0.710861544 vcost= 0.008914547\n",
      "Epoch: 0077 cost= 0.710863192 vcost= 0.008914554\n",
      "Epoch: 0078 cost= 0.710864860 vcost= 0.008914563\n",
      "Epoch: 0079 cost= 0.710866534 vcost= 0.008914572\n"
     ]
    }
   ],
   "source": [
    "with tf.Session() as sess:\n",
    "    sess.run(init_op)\n",
    "    batches = int(len(train_Y) / batch_size)\n",
    "    # Fit all training data\n",
    "    early_stop = False\n",
    "    plotlist = []\n",
    "    for epoch in range(training_epochs):\n",
    "        if (early_stop):\n",
    "            break\n",
    "        avg_cost = 0\n",
    "        avg_vcost = 0\n",
    "        prev_vcost = float(\"inf\")\n",
    "        test_data = list(zip(test_X, test_Y))\n",
    "        validation_data = list(zip(validation_X, validation_Y))\n",
    "\n",
    "        for i in range(len(test_data)):\n",
    "            x, y = test_data[i]\n",
    "            x = x.reshape(1, 5)\n",
    "            y = y.reshape(1, 1)\n",
    "            vx, vy = test_data[i]\n",
    "            vx = vx.reshape(1, 5)\n",
    "            vy = vy.reshape(1, 1)\n",
    "            _, cost = sess.run([optimizer, mse], feed_dict={X: x, Y: y})\n",
    "            \n",
    "            avg_cost += cost / training_epochs\n",
    "            vcost = sess.run(\n",
    "                tf.reduce_sum(tf.pow(y_ - Y, 2)) / (2 * test_X.shape[0]),\n",
    "                feed_dict={X: vx, Y: vy})  # same function as cost above\n",
    "            # Early stopping\n",
    "            #if (vcost > prev_vcost):\n",
    "            #    print(\"Stop!!! {} vs {}\".format(vcost, prev_vcost))\n",
    "            #    early_stop = True\n",
    "            #    break\n",
    "                \n",
    "            prev_vcost = vcost\n",
    "            avg_vcost += vcost / training_epochs\n",
    "            plotlist.append(cost)\n",
    "\n",
    "        print(\"Epoch:\", '%04d' % (epoch+1), \"cost=\", \"{:.9f}\".format(avg_cost), \"vcost=\", \"{:.9f}\".format(avg_vcost))\n",
    "        avg_cost = avg_vcost = 0\n",
    "            "
   ]
  },
  {
   "cell_type": "code",
   "execution_count": null,
   "metadata": {
    "collapsed": false
   },
   "outputs": [],
   "source": [
    "plt.plot(plotlist)"
   ]
  },
  {
   "cell_type": "code",
   "execution_count": null,
   "metadata": {
    "collapsed": true
   },
   "outputs": [],
   "source": []
  }
 ],
 "metadata": {
  "kernelspec": {
   "display_name": "Python 3",
   "language": "python",
   "name": "python3"
  },
  "language_info": {
   "codemirror_mode": {
    "name": "ipython",
    "version": 3
   },
   "file_extension": ".py",
   "mimetype": "text/x-python",
   "name": "python",
   "nbconvert_exporter": "python",
   "pygments_lexer": "ipython3",
   "version": "3.6.0"
  }
 },
 "nbformat": 4,
 "nbformat_minor": 2
}
