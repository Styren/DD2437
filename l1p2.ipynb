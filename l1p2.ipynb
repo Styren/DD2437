{
 "cells": [
  {
   "cell_type": "code",
   "execution_count": 1,
   "metadata": {},
   "outputs": [
    {
     "name": "stderr",
     "output_type": "stream",
     "text": [
      "/Library/Frameworks/Python.framework/Versions/3.5/lib/python3.5/importlib/_bootstrap.py:222: RuntimeWarning: compiletime version 3.6 of module 'tensorflow.python.framework.fast_tensor_util' does not match runtime version 3.5\n",
      "  return f(*args, **kwds)\n"
     ]
    }
   ],
   "source": [
    "import tensorflow as tf # TODO"
   ]
  },
  {
   "cell_type": "code",
   "execution_count": 2,
   "metadata": {},
   "outputs": [],
   "source": [
    "import numpy\n",
    "import matplotlib.pyplot as plt"
   ]
  },
  {
   "cell_type": "code",
   "execution_count": null,
   "metadata": {},
   "outputs": [],
   "source": [
    "# Parameters\n",
    "learning_rate = 0.005\n",
    "training_epochs = 50\n",
    "batch_size = 50\n",
    "display_step = 5"
   ]
  },
  {
   "cell_type": "code",
   "execution_count": 4,
   "metadata": {},
   "outputs": [],
   "source": [
    "def mackey_glass(t, t25):\n",
    "    return 0.9 * t + 0.2*t25/(1+t25**10)\n",
    "fdata = [1.5]\n",
    "for i in range(1525):\n",
    "    fdata.append(mackey_glass(fdata[i], fdata[i - 25] if i > 25 else 0))"
   ]
  },
  {
   "cell_type": "code",
   "execution_count": 5,
   "metadata": {},
   "outputs": [],
   "source": [
    "def create_mg_series(i, data):\n",
    "    return numpy.asarray([data[i-20], data[i-15], data[i-10], data[i-5], data[i]])\n",
    "\n",
    "train_X = numpy.asarray(list(map(lambda x: create_mg_series(x, fdata), range(301, 1300))))\n",
    "train_Y = numpy.asarray(list(map(lambda x: fdata[x+5], range(301, 1300))))\n",
    "test_X = numpy.asarray(list(map(lambda x: create_mg_series(x, fdata), range(1301, 1500))))\n",
    "test_Y = numpy.asarray(list(map(lambda x: fdata[x+5], range(1301, 1500))))"
   ]
  },
  {
   "cell_type": "code",
   "execution_count": 24,
   "metadata": {},
   "outputs": [],
   "source": [
    "# X Y\n",
    "X = tf.placeholder(tf.float32, [1,5], name='x')  # 5 inputs\n",
    "Y = tf.placeholder(tf.float32,name='y')  # 1 output\n",
    "\n",
    "# hidden layer 1\n",
    "W1 = tf.Variable(tf.truncated_normal([5, 8], stddev=0.03), name='W1')\n",
    "b1 = tf.Variable(tf.truncated_normal([8]), name='b1')\n",
    "\n",
    "# hidden layer 2\n",
    "W2 = tf.Variable(tf.truncated_normal([8, 5], stddev=0.03), name='W2')\n",
    "b2 = tf.Variable(tf.truncated_normal([5]), name='b2')"
   ]
  },
  {
   "cell_type": "code",
   "execution_count": 25,
   "metadata": {},
   "outputs": [],
   "source": [
    "# output hidden layer 1\n",
    "hidden_out = tf.nn.relu(tf.add(tf.matmul(X, W1), b1))\n",
    "\n",
    "# total output\n",
    "y_ = tf.nn.relu(tf.add(tf.matmul(hidden_out, W2), b2))"
   ]
  },
  {
   "cell_type": "code",
   "execution_count": 26,
   "metadata": {},
   "outputs": [],
   "source": [
    "mse = tf.losses.mean_squared_error(Y, y_)"
   ]
  },
  {
   "cell_type": "code",
   "execution_count": 27,
   "metadata": {},
   "outputs": [],
   "source": [
    "optimizer = tf.train.GradientDescentOptimizer(learning_rate=learning_rate).minimize(mse)"
   ]
  },
  {
   "cell_type": "code",
   "execution_count": 28,
   "metadata": {},
   "outputs": [],
   "source": [
    "# initialize variables\n",
    "init_op = tf.global_variables_initializer()"
   ]
  },
  {
   "cell_type": "code",
   "execution_count": 29,
   "metadata": {},
   "outputs": [],
   "source": [
    "# accuracy for the test set\n",
    "accuracy = tf.reduce_mean(tf.square(tf.subtract(Y, y_))) # or could use tf.losses.mean_squared_error"
   ]
  },
  {
   "cell_type": "code",
   "execution_count": null,
   "metadata": {
    "scrolled": false
   },
   "outputs": [
    {
     "name": "stdout",
     "output_type": "stream",
     "text": [
      "Epoch: 0005 cost= 11.410031303\n",
      "Epoch: 0010 cost= 11.385859016\n",
      "Epoch: 0015 cost= 11.293049645\n",
      "Epoch: 0020 cost= 11.108462305\n",
      "Epoch: 0025 cost= 11.023003088\n",
      "Epoch: 0030 cost= 10.999154258\n",
      "Epoch: 0035 cost= 10.983920994\n",
      "Epoch: 0040 cost= 10.971348844\n",
      "Epoch: 0045 cost= 10.960514760\n",
      "Epoch: 0050 cost= 10.951137966\n",
      "Testing... (Mean square loss Comparison)\n"
     ]
    }
   ],
   "source": [
    "with tf.Session() as sess:\n",
    "    sess.run(init_op)\n",
    "    batches = int(len(train_Y) / batch_size) \n",
    "    # Fit all training data\n",
    "    for epoch in range(training_epochs):\n",
    "        avg_cost = 0\n",
    "        for (x, y) in zip(train_X, train_Y):\n",
    "            _, cost = sess.run([optimizer, mse], feed_dict={X: x.reshape(1,5), Y: y.reshape(1,1)})\n",
    "            avg_cost += cost / training_epochs\n",
    "\n",
    "        # Display logs per epoch step\n",
    "        if (epoch+1) % display_step == 0:\n",
    "            # c = sess.run(mse, feed_dict={X: train_X, Y:train_Y})\n",
    "            print(\"Epoch:\", '%04d' % (epoch+1), \"cost=\", \"{:.9f}\".format(avg_cost))\n",
    "    # print(\"Training cost=\", training_cost, \"W=\", sess.run(W), \"b=\", sess.run(b), '\\n')\n",
    "\n",
    "    print(\"Testing... (Mean square loss Comparison)\")\n",
    "    testing_cost = 0\n",
    "    for epoch in range(training_epochs):\n",
    "        for (x, y) in zip(test_X, train_Y):\n",
    "            cost = sess.run(\n",
    "                tf.reduce_sum(tf.pow(y_ - Y, 2)) / (2 * test_X.shape[0]),\n",
    "                feed_dict={X: x.reshape(1,5), Y: y.reshape(1,1)})  # same function as cost above\n",
    "            testing_cost += cost / training_epochs\n",
    "\n",
    "    print(\"Testing cost=\", testing_cost)\n",
    "    print(\"Absolute mean square loss difference:\", abs(\n",
    "        training_cost - testing_cost))"
   ]
  },
  {
   "cell_type": "code",
   "execution_count": null,
   "metadata": {},
   "outputs": [],
   "source": [
    "X"
   ]
  },
  {
   "cell_type": "code",
   "execution_count": null,
   "metadata": {},
   "outputs": [],
   "source": [
    "Y"
   ]
  },
  {
   "cell_type": "code",
   "execution_count": null,
   "metadata": {},
   "outputs": [],
   "source": [
    "x"
   ]
  },
  {
   "cell_type": "code",
   "execution_count": null,
   "metadata": {},
   "outputs": [],
   "source": [
    "y"
   ]
  },
  {
   "cell_type": "code",
   "execution_count": null,
   "metadata": {},
   "outputs": [],
   "source": []
  }
 ],
 "metadata": {
  "kernelspec": {
   "display_name": "Python 3",
   "language": "python",
   "name": "python3"
  },
  "language_info": {
   "codemirror_mode": {
    "name": "ipython",
    "version": 3
   },
   "file_extension": ".py",
   "mimetype": "text/x-python",
   "name": "python",
   "nbconvert_exporter": "python",
   "pygments_lexer": "ipython3",
   "version": "3.5.2"
  }
 },
 "nbformat": 4,
 "nbformat_minor": 2
}
