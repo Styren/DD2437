{
 "cells": [
  {
   "cell_type": "code",
   "execution_count": 1,
   "metadata": {},
   "outputs": [],
   "source": [
    "import numpy as np\n",
    "import matplotlib.pyplot as plt"
   ]
  },
  {
   "cell_type": "code",
   "execution_count": 2,
   "metadata": {},
   "outputs": [],
   "source": [
    "class HebianNet():\n",
    "    def __init__(self):\n",
    "        self.weights = None\n",
    "        self.trained = False\n",
    "        \n",
    "    def train(self,data):\n",
    "        ### Borde normera vikterna för att inte energin ska bli fuckad\n",
    "        if not self.trained:\n",
    "            self.weights = np.zeros((data.shape[1], data.shape[1]))\n",
    "        for index in range(data.shape[0]):\n",
    "            self.weights = np.add(np.outer(np.transpose(data[index,:]),data[index,:]),self.weights)\n",
    "        self.weights = np.divide(self.weights, self.weights.sum())\n",
    "        self.trained = True\n",
    "    \n",
    "    def update_batch(self, x):\n",
    "        new = np.dot(x,self.weights)\n",
    "        new[new>=0] = 1\n",
    "        new[new<0] = -1\n",
    "        return new\n",
    "    \n",
    "    def update_asynch(self, x):\n",
    "        dimension = x.shape[0]\n",
    "        new = x.copy()\n",
    "        for i in range(dimension):\n",
    "            sum_ = 0\n",
    "            for j in range(dimension):\n",
    "                sum_ += np.multiply(self.weights[i][j], new[j])\n",
    "            if sum_ < 0:\n",
    "                new[i] = -1\n",
    "            else:\n",
    "                new[i] = 1\n",
    "        return new\n",
    "    \n",
    "    def update_random(self, x):\n",
    "        dimension = x.shape[0]\n",
    "        new = x.copy()\n",
    "        for dummy in range(dimension):\n",
    "            i = np.random.randint(0,dimension)\n",
    "            sum_ = 0\n",
    "            for j in range(dimension):\n",
    "                sum_ += np.multiply(self.weights[i][j], new[j])\n",
    "            if sum_ < 0:\n",
    "                new[i] = -1\n",
    "            else:\n",
    "                new[i] = 1\n",
    "        return new        \n",
    "\n",
    "    \n",
    "    def recall(self, x, method = \"batch\", maxiter = None):\n",
    "        error = 1\n",
    "        itercount = 0\n",
    "        \n",
    "        if method == \"batch\":\n",
    "            update = self.update_batch\n",
    "        if method == \"asynch\":\n",
    "            update = self.update_asynch\n",
    "        if method == \"random\":\n",
    "            update = self.update_random\n",
    "        \n",
    "        energy = []    \n",
    "        while error > 0:\n",
    "            new = update(x)\n",
    "            error = sum(abs(new-x))\n",
    "            x = new.copy()\n",
    "            itercount += 1\n",
    "            #if (itercount%100) == 0:\n",
    "                #self.plot()\n",
    "            energy.append(self.energy(x))\n",
    "            if itercount == maxiter:\n",
    "                break\n",
    "        return x, itercount, energy\n",
    "    \n",
    "    def energy(self, pattern):\n",
    "        outer = np.outer(pattern, np.transpose(pattern))\n",
    "        pos_energy = np.sum(np.multiply(self.weights, outer))\n",
    "        return np.multiply(-1, pos_energy)\n",
    "    \n",
    "    def plot(self, pattern):\n",
    "        plt.imshow(pattern.reshape(32,32),interpolation=\"nearest\")\n",
    "        plt.show()\n",
    "        \n",
    "        "
   ]
  },
  {
   "cell_type": "code",
   "execution_count": 74,
   "metadata": {},
   "outputs": [],
   "source": [
    "mat = np.zeros((256, 8))\n",
    "for i in range(256):\n",
    "    arr = [int(x) for x in bin(i)[2:]]\n",
    "    for j in range(len(arr)):\n",
    "        mat[i][8 - len(arr) + j] = arr[j]"
   ]
  },
  {
   "cell_type": "markdown",
   "metadata": {},
   "source": [
    "### Hopfield network recall"
   ]
  },
  {
   "cell_type": "code",
   "execution_count": 4,
   "metadata": {},
   "outputs": [],
   "source": [
    "x1 = np.array([-1,-1,1,-1,1,-1,-1,1])\n",
    "x2 = np.array([-1,-1,-1,-1,-1,1,-1,-1])\n",
    "x3 = np.array([-1,1,1,-1,-1,1,-1,1])\n",
    "data  = np.array([x1,x2,x3])"
   ]
  },
  {
   "cell_type": "code",
   "execution_count": 5,
   "metadata": {},
   "outputs": [],
   "source": [
    "hn = HebianNet()"
   ]
  },
  {
   "cell_type": "code",
   "execution_count": 6,
   "metadata": {},
   "outputs": [],
   "source": [
    "hn.train(data)"
   ]
  },
  {
   "cell_type": "markdown",
   "metadata": {},
   "source": [
    "Reproduces learned patterns"
   ]
  },
  {
   "cell_type": "code",
   "execution_count": 7,
   "metadata": {},
   "outputs": [
    {
     "data": {
      "text/plain": [
       "0"
      ]
     },
     "execution_count": 7,
     "metadata": {},
     "output_type": "execute_result"
    }
   ],
   "source": [
    "np.count_nonzero(hn.update_batch(x1)-x1)"
   ]
  },
  {
   "cell_type": "markdown",
   "metadata": {},
   "source": [
    "### Convergence and attractors"
   ]
  },
  {
   "cell_type": "code",
   "execution_count": 8,
   "metadata": {},
   "outputs": [],
   "source": [
    "x1d = np.array([1,-1,1,-1,1,-1,-1,1])\n",
    "x2d = np.array([1,1,-1,-1,-1,1,-1,-1])\n",
    "x3d = np.array([1,1,1,-1,1,1,-1,1])"
   ]
  },
  {
   "cell_type": "code",
   "execution_count": 9,
   "metadata": {},
   "outputs": [
    {
     "data": {
      "text/plain": [
       "0"
      ]
     },
     "execution_count": 9,
     "metadata": {},
     "output_type": "execute_result"
    }
   ],
   "source": [
    "np.count_nonzero(hn.recall(x1d)[0]- x1)"
   ]
  },
  {
   "cell_type": "markdown",
   "metadata": {},
   "source": [
    "hn.converge(x2d)[0] - x2"
   ]
  },
  {
   "cell_type": "code",
   "execution_count": 10,
   "metadata": {},
   "outputs": [
    {
     "data": {
      "text/plain": [
       "0"
      ]
     },
     "execution_count": 10,
     "metadata": {},
     "output_type": "execute_result"
    }
   ],
   "source": [
    "np.count_nonzero(hn.recall(x3d)[0] - x3)"
   ]
  },
  {
   "cell_type": "markdown",
   "metadata": {},
   "source": [
    "Only x1d and x3d converge towards their respective undistorted patterns. x2d does not."
   ]
  },
  {
   "cell_type": "code",
   "execution_count": 11,
   "metadata": {},
   "outputs": [],
   "source": [
    "searchgrid = np.ones((256,8))"
   ]
  },
  {
   "cell_type": "code",
   "execution_count": 12,
   "metadata": {},
   "outputs": [
    {
     "data": {
      "text/plain": [
       "array([[1., 1., 1., ..., 1., 1., 1.],\n",
       "       [1., 1., 1., ..., 1., 1., 1.],\n",
       "       [1., 1., 1., ..., 1., 1., 1.],\n",
       "       ...,\n",
       "       [1., 1., 1., ..., 1., 1., 1.],\n",
       "       [1., 1., 1., ..., 1., 1., 1.],\n",
       "       [1., 1., 1., ..., 1., 1., 1.]])"
      ]
     },
     "execution_count": 12,
     "metadata": {},
     "output_type": "execute_result"
    }
   ],
   "source": [
    "searchgrid"
   ]
  },
  {
   "cell_type": "markdown",
   "metadata": {},
   "source": [
    "#### More than half wrong"
   ]
  },
  {
   "cell_type": "code",
   "execution_count": 13,
   "metadata": {},
   "outputs": [],
   "source": [
    "x1dd = np.multiply(x1,np.array([-1,-1,-1,-1,-1,1,1,1]))"
   ]
  },
  {
   "cell_type": "code",
   "execution_count": 14,
   "metadata": {},
   "outputs": [
    {
     "name": "stdout",
     "output_type": "stream",
     "text": [
      "Diff from original vector in 7 elements. Number of iterations to convergance was 2\n"
     ]
    }
   ],
   "source": [
    "new, iterations, energy = hn.recall(x1dd)\n",
    "new = np.multiply(new,x1).copy()\n",
    "result = len(new[new<0])\n",
    "print(\"Diff from original vector in {} elements. Number of iterations to convergance was {}\".format(result,iterations))"
   ]
  },
  {
   "cell_type": "markdown",
   "metadata": {},
   "source": [
    "## Picture Data"
   ]
  },
  {
   "cell_type": "markdown",
   "metadata": {},
   "source": [
    "### Sequential Update"
   ]
  },
  {
   "cell_type": "code",
   "execution_count": 78,
   "metadata": {},
   "outputs": [],
   "source": [
    "pictData = np.loadtxt('./pict.dat',delimiter=\",\", dtype=int).reshape(-1,1024)"
   ]
  },
  {
   "cell_type": "code",
   "execution_count": 79,
   "metadata": {},
   "outputs": [],
   "source": [
    "trainingData = pictData[0:3].copy()"
   ]
  },
  {
   "cell_type": "code",
   "execution_count": 80,
   "metadata": {},
   "outputs": [],
   "source": [
    "testData = pictData[3:].copy()"
   ]
  },
  {
   "cell_type": "code",
   "execution_count": 81,
   "metadata": {},
   "outputs": [],
   "source": [
    "hn = HebianNet()"
   ]
  },
  {
   "cell_type": "code",
   "execution_count": 82,
   "metadata": {},
   "outputs": [],
   "source": [
    "hn.train(trainingData)"
   ]
  },
  {
   "cell_type": "markdown",
   "metadata": {},
   "source": [
    "#### Check stability of training patterns"
   ]
  },
  {
   "cell_type": "code",
   "execution_count": 138,
   "metadata": {},
   "outputs": [
    {
     "name": "stdout",
     "output_type": "stream",
     "text": [
      "0\n"
     ]
    }
   ],
   "source": [
    "test1 = np.multiply(hn.update_batch(trainingData[0]),trainingData[0])\n",
    "print(len(test1[test1<0]))"
   ]
  },
  {
   "cell_type": "code",
   "execution_count": 139,
   "metadata": {},
   "outputs": [
    {
     "name": "stdout",
     "output_type": "stream",
     "text": [
      "0\n"
     ]
    }
   ],
   "source": [
    "test2 = np.multiply(hn.update_batch(trainingData[1]),trainingData[1])\n",
    "print(len(test2[test2<0]))"
   ]
  },
  {
   "cell_type": "code",
   "execution_count": 140,
   "metadata": {},
   "outputs": [
    {
     "name": "stdout",
     "output_type": "stream",
     "text": [
      "0\n"
     ]
    }
   ],
   "source": [
    "test3 = np.multiply(hn.update_batch(trainingData[2]),trainingData[2])\n",
    "print(len(test3[test3<0]))"
   ]
  },
  {
   "cell_type": "markdown",
   "metadata": {},
   "source": [
    "#### Check performance on degraded patterns"
   ]
  },
  {
   "cell_type": "code",
   "execution_count": 25,
   "metadata": {},
   "outputs": [
    {
     "data": {
      "image/png": "[encoded data removed]",
      "text/plain": [
       "<matplotlib.figure.Figure at 0x111794f28>"
      ]
     },
     "metadata": {},
     "output_type": "display_data"
    },
    {
     "data": {
      "image/png": "[encoded data removed]",
      "text/plain": [
       "<matplotlib.figure.Figure at 0x111794f98>"
      ]
     },
     "metadata": {},
     "output_type": "display_data"
    },
    {
     "data": {
      "image/png": "[encoded data removed]",
      "text/plain": [
       "<matplotlib.figure.Figure at 0x1131c82e8>"
      ]
     },
     "metadata": {},
     "output_type": "display_data"
    }
   ],
   "source": [
    "p10_recalled = hn.recall(testData[-2])[0]\n",
    "#Plot picture 1\n",
    "hn.plot(trainingData[0])\n",
    "#Plot picture 10, degraded version of picture 1\n",
    "hn.plot(testData[-2])\n",
    "#Plot output of HebianNet on picture 11\n",
    "hn.plot(p10_recalled)"
   ]
  },
  {
   "cell_type": "code",
   "execution_count": 26,
   "metadata": {},
   "outputs": [
    {
     "data": {
      "image/png": "[encoded data removed]",
      "text/plain": [
       "<matplotlib.figure.Figure at 0x1143e6a20>"
      ]
     },
     "metadata": {},
     "output_type": "display_data"
    },
    {
     "data": {
      "image/png": "[encoded data removed]",
      "text/plain": [
       "<matplotlib.figure.Figure at 0x1143e6b00>"
      ]
     },
     "metadata": {},
     "output_type": "display_data"
    },
    {
     "data": {
      "image/png": "[encoded data removed]",
      "text/plain": [
       "<matplotlib.figure.Figure at 0x1144563c8>"
      ]
     },
     "metadata": {},
     "output_type": "display_data"
    },
    {
     "data": {
      "image/png": "[encoded data removed]",
      "text/plain": [
       "<matplotlib.figure.Figure at 0x1146950b8>"
      ]
     },
     "metadata": {},
     "output_type": "display_data"
    }
   ],
   "source": [
    "p11_recalled = hn.recall(testData[-1])[0]\n",
    "#Show picture 2\n",
    "hn.plot(trainingData[1])\n",
    "#Show picture 3\n",
    "hn.plot(trainingData[2])\n",
    "#Show Picture 11, combination of 2 and 3\n",
    "hn.plot(testData[-1])\n",
    "#Show recalled version of picture 11\n",
    "hn.plot(p11_recalled)"
   ]
  },
  {
   "cell_type": "code",
   "execution_count": 27,
   "metadata": {},
   "outputs": [
    {
     "name": "stdout",
     "output_type": "stream",
     "text": [
      "Diff from training pattern is 135\n",
      "Number of iterations was 3\n"
     ]
    },
    {
     "data": {
      "image/png": "[encoded data removed]",
      "text/plain": [
       "<matplotlib.figure.Figure at 0x1147523c8>"
      ]
     },
     "metadata": {},
     "output_type": "display_data"
    }
   ],
   "source": [
    "#Using \"non - random\" sequential updates\n",
    "p10_arecalled, iter_, energy = hn.recall(testData[-2], method = 'asynch')\n",
    "diff = np.multiply(p10_arecalled,trainingData[0])\n",
    "print(\"Diff from training pattern is {}\".format(len(diff[diff<0])))\n",
    "print(\"Number of iterations was {}\".format(iter_))\n",
    "hn.plot(p10_arecalled)"
   ]
  },
  {
   "cell_type": "code",
   "execution_count": 28,
   "metadata": {},
   "outputs": [
    {
     "name": "stdout",
     "output_type": "stream",
     "text": [
      "Diff from training pattern is 0\n",
      "Number of iterations was 6\n"
     ]
    },
    {
     "data": {
      "image/png": "[encoded data removed]",
      "text/plain": [
       "<matplotlib.figure.Figure at 0x113173400>"
      ]
     },
     "metadata": {},
     "output_type": "display_data"
    }
   ],
   "source": [
    "#Using random sequential updates\n",
    "p10_arecalled, iter_, energy_random = hn.recall(testData[-2], method= 'random')\n",
    "diff = np.multiply(p10_arecalled,trainingData[0])\n",
    "print(\"Diff from training pattern is {}\".format(len(diff[diff<0])))\n",
    "print(\"Number of iterations was {}\".format(iter_))\n",
    "hn.plot(p10_arecalled)"
   ]
  },
  {
   "cell_type": "markdown",
   "metadata": {},
   "source": [
    "### Hopfield network memes for the energy deficient teen"
   ]
  },
  {
   "cell_type": "markdown",
   "metadata": {},
   "source": [
    "#### Energy at attractors"
   ]
  },
  {
   "cell_type": "code",
   "execution_count": 29,
   "metadata": {},
   "outputs": [
    {
     "name": "stdout",
     "output_type": "stream",
     "text": [
      "Energy at picture 1 (attractor) was -1.1174037505155143\n",
      "Energy at picture 2 (attractor) was -1.0601513791514032\n",
      "Energy at picture 3 (attractor) was -1.1351495596904482\n"
     ]
    }
   ],
   "source": [
    "for i in range(trainingData.shape[0]):\n",
    "    print(\"Energy at picture {} (attractor) was {}\".format(i+1,hn.energy(trainingData[i])))"
   ]
  },
  {
   "cell_type": "markdown",
   "metadata": {},
   "source": [
    "#### Energy at distorted patterns"
   ]
  },
  {
   "cell_type": "code",
   "execution_count": 30,
   "metadata": {},
   "outputs": [
    {
     "name": "stdout",
     "output_type": "stream",
     "text": [
      "Energy at picture 4 (distorted) was -0.5593113946774699\n",
      "Energy at picture 5 (distorted) was -0.4082506489410736\n",
      "Energy at picture 6 (distorted) was -0.5304456466364235\n",
      "Energy at picture 7 (distorted) was -0.5323348535940415\n",
      "Energy at picture 8 (distorted) was -0.13317241212003592\n",
      "Energy at picture 9 (distorted) was -0.2076702408966304\n",
      "Energy at picture 10 (distorted) was -0.32292702748599017\n",
      "Energy at picture 11 (distorted) was -0.13468862958200914\n"
     ]
    },
    {
     "data": {
      "text/plain": [
       "-0.32292702748599017"
      ]
     },
     "execution_count": 30,
     "metadata": {},
     "output_type": "execute_result"
    }
   ],
   "source": [
    "for i in range(testData.shape[0]):\n",
    "    print(\"Energy at picture {} (distorted) was {}\".format(i+4,hn.energy(testData[i])))\n",
    "hn.energy(testData[-2])"
   ]
  },
  {
   "cell_type": "markdown",
   "metadata": {},
   "source": [
    "####  Energy at every asynchronous iteration"
   ]
  },
  {
   "cell_type": "code",
   "execution_count": 31,
   "metadata": {},
   "outputs": [
    {
     "data": {
      "text/plain": [
       "<matplotlib.text.Text at 0x114a635c0>"
      ]
     },
     "execution_count": 31,
     "metadata": {},
     "output_type": "execute_result"
    },
    {
     "data": {
      "image/png": "[encoded data removed]",
      "text/plain": [
       "<matplotlib.figure.Figure at 0x11493c2b0>"
      ]
     },
     "metadata": {},
     "output_type": "display_data"
    }
   ],
   "source": [
    "#Non random\n",
    "plt.plot(energy)\n",
    "plt.title(\"Energy for every iteration using non-random asynchronous updates\")"
   ]
  },
  {
   "cell_type": "code",
   "execution_count": 32,
   "metadata": {},
   "outputs": [
    {
     "data": {
      "text/plain": [
       "<matplotlib.text.Text at 0x114bde2b0>"
      ]
     },
     "execution_count": 32,
     "metadata": {},
     "output_type": "execute_result"
    },
    {
     "data": {
      "image/png": "[encoded data removed]",
      "text/plain": [
       "<matplotlib.figure.Figure at 0x114a5b048>"
      ]
     },
     "metadata": {},
     "output_type": "display_data"
    }
   ],
   "source": [
    "#Random\n",
    "plt.plot(energy_random)\n",
    "plt.title(\"Energy for every iteration using random asynchronous updates\")"
   ]
  },
  {
   "cell_type": "code",
   "execution_count": 55,
   "metadata": {},
   "outputs": [
    {
     "data": {
      "text/plain": [
       "[<matplotlib.lines.Line2D at 0x112e21470>]"
      ]
     },
     "execution_count": 55,
     "metadata": {},
     "output_type": "execute_result"
    },
    {
     "data": {
      "image/png": "[encoded data removed]",
      "text/plain": [
       "<matplotlib.figure.Figure at 0x112c6a048>"
      ]
     },
     "metadata": {},
     "output_type": "display_data"
    }
   ],
   "source": [
    "#Generate a weight matrix by setting the weights to normally distributed\n",
    "#random numbers, and try iterating an arbitrary starting state. What happens?\n",
    "hn_2 = HebianNet()\n",
    "dim = 8\n",
    "hn_2.weights = np.random.randn(dim,dim)\n",
    "start_state = np.random.randn(8)\n",
    "recalled, iter_, e = hn.recall(start_state, maxiter = 100)\n",
    "plt.plot(e)\n",
    "#Doesn't converge"
   ]
  },
  {
   "cell_type": "code",
   "execution_count": 56,
   "metadata": {},
   "outputs": [
    {
     "data": {
      "text/plain": [
       "[<matplotlib.lines.Line2D at 0x112ee0898>]"
      ]
     },
     "execution_count": 56,
     "metadata": {},
     "output_type": "execute_result"
    },
    {
     "data": {
      "image/png": "[encoded data removed]",
      "text/plain": [
       "<matplotlib.figure.Figure at 0x112e3b400>"
      ]
     },
     "metadata": {},
     "output_type": "display_data"
    }
   ],
   "source": [
    "hn_3 = HebianNet()\n",
    "dim = 8\n",
    "hn_3.weights = np.random.randn(dim,dim)\n",
    "hn_3.weights = np.multiply(0.5, hn.weights + np.linalg.inv(hn.weights))\n",
    "start_state = np.random.randn(8)\n",
    "recalled, iter_, e = hn.recall(start_state, maxiter = 100)\n",
    "plt.plot(e)\n",
    "#Still doesn't really converge?"
   ]
  },
  {
   "cell_type": "markdown",
   "metadata": {},
   "source": [
    "### Noise Resistance"
   ]
  },
  {
   "cell_type": "code",
   "execution_count": 98,
   "metadata": {},
   "outputs": [],
   "source": [
    "def distort_data(pattern,percentage):\n",
    "    dim = pattern.size\n",
    "    dist = int(dim*percentage)\n",
    "    subDist = pattern[:dist]\n",
    "    #print(pattern)\n",
    "    distPattern=np.copy(pattern)\n",
    "    np.random.shuffle(distPattern[:dist])    \n",
    "    return distPattern"
   ]
  },
  {
   "cell_type": "markdown",
   "metadata": {},
   "source": [
    "#### Attractor 1"
   ]
  },
  {
   "cell_type": "code",
   "execution_count": 137,
   "metadata": {
    "scrolled": false
   },
   "outputs": [
    {
     "name": "stdout",
     "output_type": "stream",
     "text": [
      "original\n"
     ]
    },
    {
     "data": {
      "image/png": "[encoded data removed]",
      "text/plain": [
       "<matplotlib.figure.Figure at 0x115389828>"
      ]
     },
     "metadata": {},
     "output_type": "display_data"
    },
    {
     "name": "stdout",
     "output_type": "stream",
     "text": [
      "distorting 10.0%\n"
     ]
    },
    {
     "data": {
      "image/png": "[encoded data removed]",
      "text/plain": [
       "<matplotlib.figure.Figure at 0x1153894a8>"
      ]
     },
     "metadata": {},
     "output_type": "display_data"
    },
    {
     "name": "stdout",
     "output_type": "stream",
     "text": [
      "distorting 20.0%\n"
     ]
    },
    {
     "data": {
      "image/png": "[encoded data removed]",
      "text/plain": [
       "<matplotlib.figure.Figure at 0x115737160>"
      ]
     },
     "metadata": {},
     "output_type": "display_data"
    },
    {
     "name": "stdout",
     "output_type": "stream",
     "text": [
      "distorting 30.000000000000004%\n"
     ]
    },
    {
     "data": {
      "image/png": "[encoded data removed]",
      "text/plain": [
       "<matplotlib.figure.Figure at 0x11554e160>"
      ]
     },
     "metadata": {},
     "output_type": "display_data"
    }
   ],
   "source": [
    "print(\"original\")\n",
    "hn_cap.plot(trainingData[0])\n",
    "for percentage in range(3):\n",
    "    percentage = percentage/10 + 0.1\n",
    "    dist_pic = distort_data(trainingData[0], percentage)\n",
    "    recalled, iter_, e = hn.recall(dist_pic, maxiter = 100)\n",
    "    print(\"distorting {}%\".format(percentage*100))\n",
    "    hn.plot(recalled)"
   ]
  },
  {
   "cell_type": "code",
   "execution_count": null,
   "metadata": {},
   "outputs": [],
   "source": [
    "#### Attractor 2"
   ]
  },
  {
   "cell_type": "code",
   "execution_count": 136,
   "metadata": {},
   "outputs": [
    {
     "name": "stdout",
     "output_type": "stream",
     "text": [
      "original\n"
     ]
    },
    {
     "data": {
      "image/png": "[encoded data removed]",
      "text/plain": [
       "<matplotlib.figure.Figure at 0x115386b00>"
      ]
     },
     "metadata": {},
     "output_type": "display_data"
    },
    {
     "name": "stdout",
     "output_type": "stream",
     "text": [
      "distorting 10.0%\n"
     ]
    },
    {
     "data": {
      "image/png": "[encoded data removed]",
      "text/plain": [
       "<matplotlib.figure.Figure at 0x117175400>"
      ]
     },
     "metadata": {},
     "output_type": "display_data"
    },
    {
     "name": "stdout",
     "output_type": "stream",
     "text": [
      "distorting 20.0%\n"
     ]
    },
    {
     "data": {
      "image/png": "[encoded data removed]",
      "text/plain": [
       "<matplotlib.figure.Figure at 0x112ff6b70>"
      ]
     },
     "metadata": {},
     "output_type": "display_data"
    },
    {
     "name": "stdout",
     "output_type": "stream",
     "text": [
      "distorting 30.000000000000004%\n"
     ]
    },
    {
     "data": {
      "image/png": "[encoded data removed]",
      "text/plain": [
       "<matplotlib.figure.Figure at 0x1153f3048>"
      ]
     },
     "metadata": {},
     "output_type": "display_data"
    },
    {
     "name": "stdout",
     "output_type": "stream",
     "text": [
      "distorting 40.0%\n"
     ]
    },
    {
     "data": {
      "image/png": "[encoded data removed]",
      "text/plain": [
       "<matplotlib.figure.Figure at 0x117253a20>"
      ]
     },
     "metadata": {},
     "output_type": "display_data"
    },
    {
     "name": "stdout",
     "output_type": "stream",
     "text": [
      "distorting 50.0%\n"
     ]
    },
    {
     "data": {
      "image/png": "[encoded data removed]",
      "text/plain": [
       "<matplotlib.figure.Figure at 0x11300ea20>"
      ]
     },
     "metadata": {},
     "output_type": "display_data"
    }
   ],
   "source": [
    "print(\"original\")\n",
    "hn_cap.plot(trainingData[1])\n",
    "for percentage in range(5):\n",
    "    percentage = percentage/10 + 0.1\n",
    "    dist_pic = distort_data(trainingData[1], percentage)\n",
    "    recalled, iter_, e = hn.recall(dist_pic, maxiter = 100)\n",
    "    print(\"distorting {}%\".format(percentage*100))\n",
    "    hn.plot(recalled)"
   ]
  },
  {
   "cell_type": "markdown",
   "metadata": {},
   "source": [
    "#### Attractor 3"
   ]
  },
  {
   "cell_type": "code",
   "execution_count": 135,
   "metadata": {},
   "outputs": [
    {
     "name": "stdout",
     "output_type": "stream",
     "text": [
      "original\n"
     ]
    },
    {
     "data": {
      "image/png": "[encoded data removed]",
      "text/plain": [
       "<matplotlib.figure.Figure at 0x1157386a0>"
      ]
     },
     "metadata": {},
     "output_type": "display_data"
    },
    {
     "name": "stdout",
     "output_type": "stream",
     "text": [
      "distorting 10.0%\n"
     ]
    },
    {
     "data": {
      "image/png": "[encoded data removed]",
      "text/plain": [
       "<matplotlib.figure.Figure at 0x112ffa9e8>"
      ]
     },
     "metadata": {},
     "output_type": "display_data"
    },
    {
     "name": "stdout",
     "output_type": "stream",
     "text": [
      "distorting 20.0%\n"
     ]
    },
    {
     "data": {
      "image/png": "[encoded data removed]",
      "text/plain": [
       "<matplotlib.figure.Figure at 0x117233c50>"
      ]
     },
     "metadata": {},
     "output_type": "display_data"
    },
    {
     "name": "stdout",
     "output_type": "stream",
     "text": [
      "distorting 30.000000000000004%\n"
     ]
    },
    {
     "data": {
      "image/png": "[encoded data removed]",
      "text/plain": [
       "<matplotlib.figure.Figure at 0x1171879b0>"
      ]
     },
     "metadata": {},
     "output_type": "display_data"
    }
   ],
   "source": [
    "print(\"original\")\n",
    "hn_cap.plot(trainingData[2])\n",
    "for percentage in range(3):\n",
    "    percentage = percentage/10 + 0.1\n",
    "    dist_pic = distort_data(trainingData[2], percentage)\n",
    "    recalled, iter_, e = hn.recall(dist_pic, maxiter = 100)\n",
    "    print(\"distorting {}%\".format(percentage*100))\n",
    "    hn.plot(recalled)"
   ]
  },
  {
   "cell_type": "markdown",
   "metadata": {},
   "source": [
    "### Capacity"
   ]
  },
  {
   "cell_type": "code",
   "execution_count": 112,
   "metadata": {},
   "outputs": [],
   "source": [
    "hn_cap = HebianNet()"
   ]
  },
  {
   "cell_type": "code",
   "execution_count": 134,
   "metadata": {},
   "outputs": [
    {
     "name": "stdout",
     "output_type": "stream",
     "text": [
      "original\n"
     ]
    },
    {
     "data": {
      "image/png": "[encoded data removed]",
      "text/plain": [
       "<matplotlib.figure.Figure at 0x112ee0fd0>"
      ]
     },
     "metadata": {},
     "output_type": "display_data"
    },
    {
     "name": "stdout",
     "output_type": "stream",
     "text": [
      "distorting 1.0%\n"
     ]
    },
    {
     "data": {
      "image/png": "[encoded data removed]",
      "text/plain": [
       "<matplotlib.figure.Figure at 0x11553d400>"
      ]
     },
     "metadata": {},
     "output_type": "display_data"
    },
    {
     "name": "stdout",
     "output_type": "stream",
     "text": [
      "distorting 2.0%\n"
     ]
    },
    {
     "data": {
      "image/png": "[encoded data removed]",
      "text/plain": [
       "<matplotlib.figure.Figure at 0x113014978>"
      ]
     },
     "metadata": {},
     "output_type": "display_data"
    },
    {
     "name": "stdout",
     "output_type": "stream",
     "text": [
      "distorting 3.0%\n"
     ]
    },
    {
     "data": {
      "image/png": "[encoded data removed]",
      "text/plain": [
       "<matplotlib.figure.Figure at 0x115385208>"
      ]
     },
     "metadata": {},
     "output_type": "display_data"
    }
   ],
   "source": [
    "trainingData = pictData[0:4].copy()\n",
    "testData = pictData[4:].copy()\n",
    "hn_cap.train(trainingData)\n",
    "\n",
    "for percentage in range(3):\n",
    "    percentage = percentage/100 + 0.01\n",
    "    dist_pic = distort_data(trainingData[0], percentage)\n",
    "    recalled, iter_, e = hn_cap.recall(dist_pic, maxiter = 100)\n",
    "    print(\"distorting {}%\".format(percentage*100))\n",
    "    error = recalled-\n",
    "    hn_cap.plot(recalled)"
   ]
  },
  {
   "cell_type": "code",
   "execution_count": 131,
   "metadata": {},
   "outputs": [
    {
     "name": "stdout",
     "output_type": "stream",
     "text": [
      "distorting 1.0%\n"
     ]
    },
    {
     "data": {
      "image/png": "[encoded data removed]",
      "text/plain": [
       "<matplotlib.figure.Figure at 0x1153fe710>"
      ]
     },
     "metadata": {},
     "output_type": "display_data"
    },
    {
     "name": "stdout",
     "output_type": "stream",
     "text": [
      "distorting 2.0%\n"
     ]
    },
    {
     "data": {
      "image/png": "[encoded data removed]",
      "text/plain": [
       "<matplotlib.figure.Figure at 0x115307be0>"
      ]
     },
     "metadata": {},
     "output_type": "display_data"
    },
    {
     "name": "stdout",
     "output_type": "stream",
     "text": [
      "distorting 3.0%\n"
     ]
    },
    {
     "data": {
      "image/png": "[encoded data removed]",
      "text/plain": [
       "<matplotlib.figure.Figure at 0x115799518>"
      ]
     },
     "metadata": {},
     "output_type": "display_data"
    }
   ],
   "source": [
    "trainingData = pictData[0:5].copy()\n",
    "testData = pictData[5:].copy()\n",
    "hn_cap.train(trainingData)\n",
    "for percentage in range(3):\n",
    "    percentage = percentage/100 + 0.01\n",
    "    dist_pic = distort_data(trainingData[0], percentage)\n",
    "    recalled, iter_, e = hn_cap.recall(dist_pic, maxiter = 100)\n",
    "    print(\"distorting {}%\".format(percentage*100))\n",
    "    hn_cap.plot(recalled)"
   ]
  },
  {
   "cell_type": "code",
   "execution_count": 132,
   "metadata": {},
   "outputs": [
    {
     "name": "stdout",
     "output_type": "stream",
     "text": [
      "distorting 1.0%\n"
     ]
    },
    {
     "data": {
      "image/png": "[encoded data removed]",
      "text/plain": [
       "<matplotlib.figure.Figure at 0x1157a24e0>"
      ]
     },
     "metadata": {},
     "output_type": "display_data"
    },
    {
     "name": "stdout",
     "output_type": "stream",
     "text": [
      "distorting 2.0%\n"
     ]
    },
    {
     "data": {
      "image/png": "[encoded data removed]",
      "text/plain": [
       "<matplotlib.figure.Figure at 0x1154f90f0>"
      ]
     },
     "metadata": {},
     "output_type": "display_data"
    },
    {
     "name": "stdout",
     "output_type": "stream",
     "text": [
      "distorting 3.0%\n"
     ]
    },
    {
     "data": {
      "image/png": "[encoded data removed]",
      "text/plain": [
       "<matplotlib.figure.Figure at 0x1117cc588>"
      ]
     },
     "metadata": {},
     "output_type": "display_data"
    }
   ],
   "source": [
    "trainingData = pictData[0:6].copy()\n",
    "testData = pictData[6:].copy()\n",
    "hn_cap.train(trainingData)\n",
    "for percentage in range(3):\n",
    "    percentage = percentage/100 + 0.01\n",
    "    dist_pic = distort_data(trainingData[0], percentage)\n",
    "    recalled, iter_, e = hn_cap.recall(dist_pic, maxiter = 100)\n",
    "    print(\"distorting {}%\".format(percentage*100))\n",
    "    hn_cap.plot(recalled)"
   ]
  },
  {
   "cell_type": "markdown",
   "metadata": {},
   "source": [
    "### Sparse Patterns"
   ]
  },
  {
   "cell_type": "code",
   "execution_count": null,
   "metadata": {},
   "outputs": [],
   "source": []
  }
 ],
 "metadata": {
  "kernelspec": {
   "display_name": "Python 3",
   "language": "python",
   "name": "python3"
  },
  "language_info": {
   "codemirror_mode": {
    "name": "ipython",
    "version": 3
   },
   "file_extension": ".py",
   "mimetype": "text/x-python",
   "name": "python",
   "nbconvert_exporter": "python",
   "pygments_lexer": "ipython3",
   "version": "3.5.2"
  }
 },
 "nbformat": 4,
 "nbformat_minor": 2
}
