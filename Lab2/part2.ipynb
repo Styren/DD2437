{
 "cells": [
  {
   "cell_type": "code",
   "execution_count": 39,
   "metadata": {},
   "outputs": [],
   "source": [
    "import numpy as np\n",
    "import matplotlib.pyplot as plt\n",
    "from math import ceil"
   ]
  },
  {
   "cell_type": "code",
   "execution_count": 6,
   "metadata": {},
   "outputs": [],
   "source": [
    "data = np.loadtxt('data/animals.dat', delimiter = ',', dtype = int)\n",
    "animalNames = np.loadtxt('data/animalnames.txt', dtype = str)"
   ]
  },
  {
   "cell_type": "code",
   "execution_count": 19,
   "metadata": {},
   "outputs": [
    {
     "data": {
      "text/plain": [
       "(32, 84)"
      ]
     },
     "execution_count": 19,
     "metadata": {},
     "output_type": "execute_result"
    }
   ],
   "source": [
    "data = np.reshape(data, (32,84))\n",
    "data.shape"
   ]
  },
  {
   "cell_type": "code",
   "execution_count": 16,
   "metadata": {},
   "outputs": [
    {
     "data": {
      "text/plain": [
       "(100, 84)"
      ]
     },
     "execution_count": 16,
     "metadata": {},
     "output_type": "execute_result"
    }
   ],
   "source": [
    "np.shape(SOM().weights)"
   ]
  },
  {
   "cell_type": "code",
   "execution_count": 133,
   "metadata": {},
   "outputs": [],
   "source": [
    "class SOM():\n",
    "    def __init__(self, data):\n",
    "        self.weights = np.random.rand(100,84)\n",
    "        self.data = data\n",
    "\n",
    "    def train(self, eta, iterations, data = None, starting_fraction = None):\n",
    "        if data == None:\n",
    "            data = self.data\n",
    "        if starting_fraction == None:\n",
    "            starting_fraction = 4\n",
    "        \n",
    "        area_size = ceil(self.weights.shape[0]/starting_fraction)\n",
    "        for epoch in range(iterations):\n",
    "            self.iterate(data, area_size, eta)\n",
    "            area_size = max(area_size - 1, 1)\n",
    "            if area_size < 0:\n",
    "                return\n",
    "    \n",
    "    \n",
    "    def iterate(self, data, area_size, eta):\n",
    "        for dataindex in range(data.shape[0]):\n",
    "            datapoint = data[dataindex,:].copy()\n",
    "            winner = self.find_winner(datapoint)\n",
    "            neighbourhood = self.find_neighbourhood(winner, area_size)\n",
    "            self.update_weights(neighbourhood, eta, datapoint)\n",
    "            \n",
    "    def update_weights(self, neighbourhood, eta, datapoint):\n",
    "        for weight_index in range(neighbourhood[0],neighbourhood[1]):\n",
    "            weight = self.weights[weight_index,:].copy()\n",
    "            new_weight = np.add(weight, eta*(np.subtract(datapoint,weight)))\n",
    "            self.weights[weight_index,:] = new_weight\n",
    "            \n",
    "    \n",
    "    def distance(self, x, y):\n",
    "        sub_vec = np.subtract(x, y)\n",
    "        dist = np.dot(sub_vec.T, sub_vec)\n",
    "        return dist\n",
    "            \n",
    "    def find_winner(self, datapoint):\n",
    "        min_dist = self.distance(self.weights[0,:], datapoint)\n",
    "        min_index = 0\n",
    "        for weightindex in range(self.weights.shape[0]):\n",
    "            dist = self.distance(self.weights[weightindex,:], datapoint)\n",
    "            if dist < min_dist:\n",
    "                min_dist = dist\n",
    "                min_index = weightindex\n",
    "        return min_index\n",
    "    \n",
    "    def find_neighbourhood(self, winner, area_size):\n",
    "        diff = int(area_size/2)\n",
    "        max_ind = self.weights.shape[0]\n",
    "        if area_size == 1:\n",
    "            if winner == max_ind:\n",
    "                lower = winner -1\n",
    "                upper = winner\n",
    "            else:\n",
    "                lower = winner\n",
    "                upper = min(winner+1, max_ind)\n",
    "        elif area_size == 2:\n",
    "            if np.random.rand() > 1:\n",
    "                lower = winner\n",
    "                upper = min(winner + 2, max_ind)\n",
    "            else:\n",
    "                lower = max(winner-2, 0)\n",
    "                upper = winner\n",
    "        else:\n",
    "            lower = max(winner - diff, 0)\n",
    "            upper = min(winner + diff, max_ind)\n",
    "\n",
    "        return (lower, upper)\n",
    "    \n",
    "    def predict(self, data):\n",
    "        predictions = []\n",
    "        for dataindex in range(data.shape[0]):\n",
    "            datapoint = data[dataindex,:].copy()\n",
    "            winner = self.find_winner(datapoint)\n",
    "            predictions.append([winner, animalNames[dataindex]])\n",
    "        predictions = np.array(predictions,dtype=object)\n",
    "        predictions = predictions[predictions[:,0].argsort()]\n",
    "  \n",
    "        return predictions\n",
    "        \n",
    "        "
   ]
  },
  {
   "cell_type": "code",
   "execution_count": 134,
   "metadata": {},
   "outputs": [],
   "source": [
    "x = SOM(data)"
   ]
  },
  {
   "cell_type": "code",
   "execution_count": 135,
   "metadata": {},
   "outputs": [],
   "source": [
    "x.train(0.1, 100)"
   ]
  },
  {
   "cell_type": "code",
   "execution_count": 136,
   "metadata": {},
   "outputs": [],
   "source": [
    "pred = x.predict(data)"
   ]
  },
  {
   "cell_type": "code",
   "execution_count": 137,
   "metadata": {},
   "outputs": [
    {
     "data": {
      "text/plain": [
       "array([[0, \"'moskito'\"],\n",
       "       [1, \"'dragonfly'\"],\n",
       "       [4, \"'grasshopper'\"],\n",
       "       [5, \"'beetle'\"],\n",
       "       [7, \"'butterfly'\"],\n",
       "       [11, \"'housefly'\"],\n",
       "       [15, \"'spider'\"],\n",
       "       [19, \"'pelican'\"],\n",
       "       [19, \"'duck'\"],\n",
       "       [22, \"'penguin'\"],\n",
       "       [23, \"'ostrich'\"],\n",
       "       [26, \"'frog'\"],\n",
       "       [28, \"'seaturtle'\"],\n",
       "       [30, \"'crocodile'\"],\n",
       "       [33, \"'walrus'\"],\n",
       "       [36, \"'bear'\"],\n",
       "       [37, \"'dog'\"],\n",
       "       [39, \"'hyena'\"],\n",
       "       [42, \"'skunk'\"],\n",
       "       [44, \"'ape'\"],\n",
       "       [47, \"'lion'\"],\n",
       "       [48, \"'cat'\"],\n",
       "       [51, \"'elephant'\"],\n",
       "       [52, \"'bat'\"],\n",
       "       [55, \"'rat'\"],\n",
       "       [59, \"'horse'\"],\n",
       "       [62, \"'pig'\"],\n",
       "       [64, \"'camel'\"],\n",
       "       [65, \"'giraffe'\"],\n",
       "       [70, \"'kangaroo'\"],\n",
       "       [73, \"'antelop'\"],\n",
       "       [77, \"'rabbit'\"]], dtype=object)"
      ]
     },
     "execution_count": 137,
     "metadata": {},
     "output_type": "execute_result"
    }
   ],
   "source": [
    "pred"
   ]
  },
  {
   "cell_type": "code",
   "execution_count": null,
   "metadata": {},
   "outputs": [],
   "source": []
  }
 ],
 "metadata": {
  "kernelspec": {
   "display_name": "Python 3",
   "language": "python",
   "name": "python3"
  },
  "language_info": {
   "codemirror_mode": {
    "name": "ipython",
    "version": 3
   },
   "file_extension": ".py",
   "mimetype": "text/x-python",
   "name": "python",
   "nbconvert_exporter": "python",
   "pygments_lexer": "ipython3",
   "version": "3.5.2"
  }
 },
 "nbformat": 4,
 "nbformat_minor": 2
}
