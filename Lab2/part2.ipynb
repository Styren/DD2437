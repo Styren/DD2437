{
 "cells": [
  {
   "cell_type": "code",
   "execution_count": 1,
   "metadata": {},
   "outputs": [],
   "source": [
    "import numpy as np\n",
    "import matplotlib.pyplot as plt\n",
    "import matplotlib.cm as cm\n",
    "from math import ceil, floor\n",
    "from scipy.spatial.distance import cityblock\n",
    "from matplotlib.path import Path\n",
    "import matplotlib.patches as patches\n",
    "import pandas as pd"
   ]
  },
  {
   "cell_type": "markdown",
   "metadata": {},
   "source": [
    "### Build SOM structure"
   ]
  },
  {
   "cell_type": "code",
   "execution_count": 2,
   "metadata": {},
   "outputs": [],
   "source": [
    "class SOM():\n",
    "    def __init__(self, data, weightdim):\n",
    "        self.weights = np.random.rand(weightdim[0],weightdim[1])\n",
    "        self.data = data\n",
    "\n",
    "    def train(self, eta, iterations, data = None, starting_fraction = None, func = None):\n",
    "        if data == None:\n",
    "            data = self.data\n",
    "        if starting_fraction == None:\n",
    "            starting_fraction = 4\n",
    "        \n",
    "        area_size = ceil(self.weights.shape[0]/starting_fraction)\n",
    "        size_step = area_size/iterations\n",
    "        for epoch in range(iterations):\n",
    "            self.iterate(data, area_size, eta, func)\n",
    "            area_size = self.update_size(area_size, size_step)\n",
    "            if epoch%10==0:\n",
    "                print(\"Completed epoch {}\".format(epoch))\n",
    "    \n",
    "    def update_size(self, area_size, size_step):\n",
    "        area_size = max(ceil(area_size - size_step), 1)\n",
    "        return area_size\n",
    "\n",
    "    \n",
    "    def iterate(self, data, area_size, eta, func):\n",
    "        if func == None:\n",
    "            func = self.find_neighbourhood\n",
    "        elif func == 'circular':\n",
    "            func = self.find_circular_neighbourhood\n",
    "        elif func == 'manhattan':\n",
    "            func = self.find_manhattan_neighbourhood\n",
    "        \n",
    "        for dataindex in range(data.shape[0]):\n",
    "            datapoint = data[dataindex,:].copy()\n",
    "            winner = self.find_winner(datapoint)\n",
    "            neighbourhood = func(winner, area_size)\n",
    "            self.update_weights(neighbourhood, eta, datapoint)\n",
    "            \n",
    "    def update_weights(self, neighbourhood, eta, datapoint):\n",
    "        for weight_index in neighbourhood:\n",
    "            weight = self.weights[weight_index,:].copy()\n",
    "            new_weight = np.add(weight, eta*(np.subtract(datapoint,weight)))\n",
    "            self.weights[weight_index,:] = new_weight\n",
    "            \n",
    "    def distance(self, x, y):\n",
    "        sub_vec = np.subtract(x, y)\n",
    "        dist = np.dot(sub_vec.T, sub_vec)\n",
    "        return dist\n",
    "            \n",
    "    def find_winner(self, datapoint):\n",
    "        min_dist = self.distance(self.weights[0,:], datapoint)\n",
    "        min_index = 0\n",
    "        for weightindex in range(self.weights.shape[0]):\n",
    "            dist = self.distance(self.weights[weightindex,:], datapoint)\n",
    "            if dist < min_dist:\n",
    "                min_dist = dist\n",
    "                min_index = weightindex\n",
    "        return min_index\n",
    "    \n",
    "    def find_circular_neighbourhood(self, winner, area_size):\n",
    "        diff = int(area_size/2)\n",
    "        weight_length = self.weights.shape[0]\n",
    "        lower = (winner - diff) % weight_length\n",
    "        upper = (winner + diff) % weight_length\n",
    "        if lower > upper:\n",
    "            lower_range = list(range(lower,weight_length))\n",
    "            upper_range = list(range(0,upper))\n",
    "            neighbourhood = lower_range.append(upper_range)\n",
    "        else:\n",
    "            neighbourhood = range(lower,upper)\n",
    "\n",
    "        return range(lower, upper)\n",
    "    \n",
    "    def find_manhattan_neighbourhood(self, winner, area_size):\n",
    "        grid_winner = np.array([floor(winner/10), winner % 10])\n",
    "        neighbourhood = []\n",
    "\n",
    "        for i in range(100):\n",
    "            i_grid = np.array([floor(i/10), i % 10])\n",
    "            if cityblock(grid_winner, i_grid) <= area_size:\n",
    "                neighbourhood.append(i)\n",
    "        return neighbourhood\n",
    "    \n",
    "    def find_neighbourhood(self, winner, area_size):\n",
    "        diff = int(area_size/2)\n",
    "        max_ind = self.weights.shape[0]\n",
    "        if area_size == 1:\n",
    "            if winner == max_ind:\n",
    "                lower = winner -1\n",
    "                upper = winner\n",
    "            else:\n",
    "                lower = winner\n",
    "                upper = min(winner+1, max_ind)\n",
    "        elif area_size == 2:\n",
    "            if np.random.rand() > 1:\n",
    "                lower = winner\n",
    "                upper = min(winner + 2, max_ind)\n",
    "            else:\n",
    "                lower = max(winner-2, 0)\n",
    "                upper = winner\n",
    "        else:\n",
    "            lower = max(winner - diff, 0)\n",
    "            upper = min(winner + diff, max_ind)\n",
    "        \n",
    "        neighbourhood = range(lower,upper)\n",
    "        return neighbourhood\n",
    "    \n",
    "    def predict(self, data, labels):\n",
    "        predictions = []\n",
    "        for dataindex in range(data.shape[0]):\n",
    "            datapoint = data[dataindex,:].copy()\n",
    "            winner = self.find_winner(datapoint)\n",
    "            predictions.append([winner, labels[dataindex]])\n",
    "        predictions = np.array(predictions,dtype=object)\n",
    "        predictions = predictions[predictions[:,0].argsort()]\n",
    "  \n",
    "        return predictions\n",
    "        \n",
    "        "
   ]
  },
  {
   "cell_type": "code",
   "execution_count": 3,
   "metadata": {},
   "outputs": [],
   "source": [
    "for index in range(8,4):\n",
    "    print(index)"
   ]
  },
  {
   "cell_type": "markdown",
   "metadata": {},
   "source": [
    "### Animal Ordering"
   ]
  },
  {
   "cell_type": "code",
   "execution_count": 4,
   "metadata": {},
   "outputs": [],
   "source": [
    "animal_data = np.loadtxt('data/animals.dat', delimiter = ',', dtype = int)\n",
    "animalNames = np.loadtxt('data/animalnames.txt', dtype = str)"
   ]
  },
  {
   "cell_type": "code",
   "execution_count": 5,
   "metadata": {},
   "outputs": [],
   "source": [
    "animal_data = np.reshape(animal_data, (32,84))"
   ]
  },
  {
   "cell_type": "code",
   "execution_count": 6,
   "metadata": {},
   "outputs": [
    {
     "name": "stdout",
     "output_type": "stream",
     "text": [
      "Completed epoch 0\n",
      "Completed epoch 10\n",
      "Completed epoch 20\n",
      "Completed epoch 30\n",
      "Completed epoch 40\n",
      "Completed epoch 50\n",
      "Completed epoch 60\n",
      "Completed epoch 70\n",
      "Completed epoch 80\n",
      "Completed epoch 90\n"
     ]
    }
   ],
   "source": [
    "som = SOM(animal_data, (100, 84))\n",
    "som.train(0.1, 100)\n",
    "pred = som.predict(animal_data, animalNames)"
   ]
  },
  {
   "cell_type": "code",
   "execution_count": 7,
   "metadata": {},
   "outputs": [
    {
     "name": "stdout",
     "output_type": "stream",
     "text": [
      "[[0 \"'antelop'\"]\n",
      " [0 \"'kangaroo'\"]\n",
      " [0 \"'bat'\"]\n",
      " [0 \"'giraffe'\"]\n",
      " [0 \"'skunk'\"]\n",
      " [0 \"'camel'\"]\n",
      " [0 \"'pig'\"]\n",
      " [0 \"'rabbit'\"]\n",
      " [3 \"'lion'\"]\n",
      " [3 \"'rat'\"]\n",
      " [3 \"'cat'\"]\n",
      " [3 \"'ape'\"]\n",
      " [3 \"'hyena'\"]\n",
      " [4 \"'horse'\"]\n",
      " [4 \"'elephant'\"]\n",
      " [12 \"'bear'\"]\n",
      " [12 \"'dog'\"]\n",
      " [16 \"'seaturtle'\"]\n",
      " [16 \"'walrus'\"]\n",
      " [16 \"'crocodile'\"]\n",
      " [24 \"'frog'\"]\n",
      " [36 \"'ostrich'\"]\n",
      " [36 \"'pelican'\"]\n",
      " [36 \"'penguin'\"]\n",
      " [36 \"'duck'\"]\n",
      " [49 \"'spider'\"]\n",
      " [62 \"'moskito'\"]\n",
      " [62 \"'housefly'\"]\n",
      " [74 \"'butterfly'\"]\n",
      " [86 \"'beetle'\"]\n",
      " [86 \"'grasshopper'\"]\n",
      " [99 \"'dragonfly'\"]]\n"
     ]
    }
   ],
   "source": [
    "print(pred)"
   ]
  },
  {
   "cell_type": "markdown",
   "metadata": {},
   "source": [
    "### TSP"
   ]
  },
  {
   "cell_type": "code",
   "execution_count": 8,
   "metadata": {},
   "outputs": [],
   "source": [
    "cities_data = np.loadtxt('data/cities.dat', delimiter = ',', dtype = float)\n",
    "cities_labels = list(range(len(cities_data)))"
   ]
  },
  {
   "cell_type": "code",
   "execution_count": 9,
   "metadata": {},
   "outputs": [
    {
     "name": "stdout",
     "output_type": "stream",
     "text": [
      "Completed epoch 0\n",
      "Completed epoch 10\n",
      "Completed epoch 20\n",
      "Completed epoch 30\n",
      "Completed epoch 40\n",
      "Completed epoch 50\n",
      "Completed epoch 60\n",
      "Completed epoch 70\n",
      "Completed epoch 80\n",
      "Completed epoch 90\n"
     ]
    }
   ],
   "source": [
    "som =  SOM(cities_data, (10,2))\n",
    "som.train(0.1, 100, starting_fraction = 4, func = 'circular')\n",
    "cities_prediction = som.predict(cities_data, cities_labels)"
   ]
  },
  {
   "cell_type": "code",
   "execution_count": 10,
   "metadata": {},
   "outputs": [
    {
     "data": {
      "image/png": "[encoded data removed]",
      "text/plain": [
       "<matplotlib.figure.Figure at 0x113b48470>"
      ]
     },
     "metadata": {},
     "output_type": "display_data"
    }
   ],
   "source": [
    "verts = np.empty(cities_data.shape)\n",
    "i = 0\n",
    "for index in cities_prediction[:,1]:\n",
    "    verts[i] = cities_data[index,:]\n",
    "    i += 1\n",
    "\n",
    "codes = [Path.LINETO]*len(cities_data)\n",
    "codes[0] = Path.MOVETO\n",
    "codes[-1] = Path.CLOSEPOLY\n",
    "\n",
    "path = Path(verts, codes)\n",
    "fig = plt.figure()\n",
    "ax = fig.add_subplot(111)\n",
    "patch = patches.PathPatch(path, facecolor='orange', lw=2)\n",
    "ax.add_patch(patch)\n",
    "ax.set_xlim(0,1)\n",
    "ax.set_ylim(0,1)\n",
    "plt.show()"
   ]
  },
  {
   "cell_type": "markdown",
   "metadata": {},
   "source": [
    "### Votes of MPs"
   ]
  },
  {
   "cell_type": "code",
   "execution_count": 11,
   "metadata": {},
   "outputs": [],
   "source": [
    "votes = np.loadtxt('data/votes.dat', delimiter = ',', dtype = float)\n",
    "mpnames = np.genfromtxt('data/mpnames.txt', delimiter ='\\n', dtype = str)\n",
    "mpsex  = np.genfromtxt('data/mpsex.dat', delimiter =',', dtype = float)\n",
    "mpdistrict  = np.genfromtxt('data/mpdistrict.dat', delimiter =',', dtype = float)\n",
    "mpparty = np.genfromtxt('data/mpparty.dat', delimiter =',', dtype = float)\n",
    "votes = np.reshape(votes,(349,31))\n",
    "votes_labels = list(range(len(votes)))"
   ]
  },
  {
   "cell_type": "code",
   "execution_count": 12,
   "metadata": {},
   "outputs": [
    {
     "data": {
      "text/plain": [
       "349"
      ]
     },
     "execution_count": 12,
     "metadata": {},
     "output_type": "execute_result"
    }
   ],
   "source": [
    "len(mpsex)"
   ]
  },
  {
   "cell_type": "code",
   "execution_count": 13,
   "metadata": {},
   "outputs": [
    {
     "name": "stdout",
     "output_type": "stream",
     "text": [
      "Completed epoch 0\n",
      "Completed epoch 10\n",
      "Completed epoch 20\n",
      "Completed epoch 30\n",
      "Completed epoch 40\n",
      "Completed epoch 50\n",
      "Completed epoch 60\n",
      "Completed epoch 70\n",
      "Completed epoch 80\n",
      "Completed epoch 90\n"
     ]
    }
   ],
   "source": [
    "som =  SOM(votes, (100,31))\n",
    "som.train(0.1, 100, starting_fraction = 50, func = 'manhattan')\n",
    "votes_prediction = som.predict(votes, votes_labels)"
   ]
  },
  {
   "cell_type": "code",
   "execution_count": 14,
   "metadata": {},
   "outputs": [],
   "source": [
    "def to_grid(data):\n",
    "    result = np.empty((349,2))\n",
    "    i = 0\n",
    "    for datapoint in data:\n",
    "        x = floor(datapoint/10)\n",
    "        y = datapoint%10\n",
    "        result[i, 0] = x\n",
    "        result[i, 1] = y\n",
    "        i = i+1\n",
    "    return result"
   ]
  },
  {
   "cell_type": "code",
   "execution_count": 15,
   "metadata": {},
   "outputs": [],
   "source": [
    "npgrid = to_grid(votes_prediction[:,0])\n",
    "unique, counts = np.unique(npgrid, return_counts=True, axis = 0)\n",
    "counts = counts.reshape(unique.shape[0],1)\n",
    "compact_grid = np.column_stack((unique,counts))"
   ]
  },
  {
   "cell_type": "code",
   "execution_count": 16,
   "metadata": {},
   "outputs": [],
   "source": [
    "names = (pd.DataFrame(mpnames)\n",
    "             .rename(columns={0:'names'})\n",
    "             .reindex(votes_prediction[:,1])\n",
    "             .reset_index()\n",
    "             .rename(columns={'index':'id'}))\n",
    "sex = (pd.DataFrame(mpsex)\n",
    "             .rename(columns={0:'sex'})\n",
    "             .reindex(votes_prediction[:,1])\n",
    "             .reset_index()\n",
    "             .rename(columns={'index':'id'}))\n",
    "district = (pd.DataFrame(mpdistrict)\n",
    "             .rename(columns={0:'district'})\n",
    "             .reindex(votes_prediction[:,1])\n",
    "             .reset_index()\n",
    "             .rename(columns={'index':'id'}))\n",
    "party = (pd.DataFrame(mpparty)\n",
    "             .rename(columns={0:'party'})\n",
    "             .reindex(votes_prediction[:,1])\n",
    "             .reset_index()\n",
    "             .rename(columns={'index':'id'}))\n"
   ]
  },
  {
   "cell_type": "code",
   "execution_count": 17,
   "metadata": {},
   "outputs": [],
   "source": [
    "grid = (pd.DataFrame(npgrid)\n",
    "          .rename(columns={0:'x',1:'y'}))\n",
    "grid['original_output'] = votes_prediction[:,0]\n",
    "grid['id'] = votes_prediction[:,1]\n",
    "\n",
    "\n",
    "#Merge shit here!\n",
    "grid = (grid.merge(names, how ='left', on='id')\n",
    "            .merge(sex, how = 'left', on ='id')\n",
    "            .merge(district, how ='left', on = 'id')\n",
    "            .merge(party, how ='left', on='id')\n",
    "            .merge(pd.DataFrame(compact_grid).rename(columns={0:'x',1:'y',2:'count'}), on =['x','y'], how = 'left'))"
   ]
  },
  {
   "cell_type": "code",
   "execution_count": 18,
   "metadata": {},
   "outputs": [
    {
     "data": {
      "text/html": [
       "<div>\n",
       "<style scoped>\n",
       "    .dataframe tbody tr th:only-of-type {\n",
       "        vertical-align: middle;\n",
       "    }\n",
       "\n",
       "    .dataframe tbody tr th {\n",
       "        vertical-align: top;\n",
       "    }\n",
       "\n",
       "    .dataframe thead th {\n",
       "        text-align: right;\n",
       "    }\n",
       "</style>\n",
       "<table border=\"1\" class=\"dataframe\">\n",
       "  <thead>\n",
       "    <tr style=\"text-align: right;\">\n",
       "      <th></th>\n",
       "      <th>x</th>\n",
       "      <th>y</th>\n",
       "      <th>original_output</th>\n",
       "      <th>id</th>\n",
       "      <th>names</th>\n",
       "      <th>sex</th>\n",
       "      <th>district</th>\n",
       "      <th>party</th>\n",
       "      <th>count</th>\n",
       "    </tr>\n",
       "  </thead>\n",
       "  <tbody>\n",
       "    <tr>\n",
       "      <th>0</th>\n",
       "      <td>0.0</td>\n",
       "      <td>0.0</td>\n",
       "      <td>0</td>\n",
       "      <td>47</td>\n",
       "      <td>Svensson Ingvar</td>\n",
       "      <td>0.0</td>\n",
       "      <td>2.0</td>\n",
       "      <td>6.0</td>\n",
       "      <td>22.0</td>\n",
       "    </tr>\n",
       "    <tr>\n",
       "      <th>1</th>\n",
       "      <td>0.0</td>\n",
       "      <td>0.0</td>\n",
       "      <td>0</td>\n",
       "      <td>173</td>\n",
       "      <td>Althin Peter</td>\n",
       "      <td>0.0</td>\n",
       "      <td>13.0</td>\n",
       "      <td>6.0</td>\n",
       "      <td>22.0</td>\n",
       "    </tr>\n",
       "    <tr>\n",
       "      <th>2</th>\n",
       "      <td>0.0</td>\n",
       "      <td>0.0</td>\n",
       "      <td>0</td>\n",
       "      <td>142</td>\n",
       "      <td>Gylling Johnny</td>\n",
       "      <td>0.0</td>\n",
       "      <td>10.0</td>\n",
       "      <td>6.0</td>\n",
       "      <td>22.0</td>\n",
       "    </tr>\n",
       "    <tr>\n",
       "      <th>3</th>\n",
       "      <td>0.0</td>\n",
       "      <td>0.0</td>\n",
       "      <td>0</td>\n",
       "      <td>195</td>\n",
       "      <td>Gustafsson Lars</td>\n",
       "      <td>0.0</td>\n",
       "      <td>15.0</td>\n",
       "      <td>6.0</td>\n",
       "      <td>22.0</td>\n",
       "    </tr>\n",
       "    <tr>\n",
       "      <th>4</th>\n",
       "      <td>0.0</td>\n",
       "      <td>0.0</td>\n",
       "      <td>0</td>\n",
       "      <td>129</td>\n",
       "      <td>Palsson Chatrine</td>\n",
       "      <td>1.0</td>\n",
       "      <td>8.0</td>\n",
       "      <td>6.0</td>\n",
       "      <td>22.0</td>\n",
       "    </tr>\n",
       "  </tbody>\n",
       "</table>\n",
       "</div>"
      ],
      "text/plain": [
       "     x    y original_output   id             names  sex  district  party  \\\n",
       "0  0.0  0.0               0   47   Svensson Ingvar  0.0       2.0    6.0   \n",
       "1  0.0  0.0               0  173      Althin Peter  0.0      13.0    6.0   \n",
       "2  0.0  0.0               0  142    Gylling Johnny  0.0      10.0    6.0   \n",
       "3  0.0  0.0               0  195   Gustafsson Lars  0.0      15.0    6.0   \n",
       "4  0.0  0.0               0  129  Palsson Chatrine  1.0       8.0    6.0   \n",
       "\n",
       "   count  \n",
       "0   22.0  \n",
       "1   22.0  \n",
       "2   22.0  \n",
       "3   22.0  \n",
       "4   22.0  "
      ]
     },
     "execution_count": 18,
     "metadata": {},
     "output_type": "execute_result"
    }
   ],
   "source": [
    "grid.head()"
   ]
  },
  {
   "cell_type": "markdown",
   "metadata": {},
   "source": [
    "### SEX"
   ]
  },
  {
   "cell_type": "code",
   "execution_count": 19,
   "metadata": {},
   "outputs": [
    {
     "name": "stdout",
     "output_type": "stream",
     "text": [
      "186\n"
     ]
    },
    {
     "data": {
      "image/png": "[encoded data removed]",
      "text/plain": [
       "<matplotlib.figure.Figure at 0x1142ad320>"
      ]
     },
     "metadata": {},
     "output_type": "display_data"
    },
    {
     "name": "stdout",
     "output_type": "stream",
     "text": [
      "163\n"
     ]
    },
    {
     "data": {
      "image/png": "[encoded data removed]",
      "text/plain": [
       "<matplotlib.figure.Figure at 0x11474a080>"
      ]
     },
     "metadata": {},
     "output_type": "display_data"
    }
   ],
   "source": [
    "for value in grid['sex'].unique():\n",
    "    df = grid[grid.sex==value]\n",
    "    plt.scatter(df['x'], df['y'], s=df['count'], c=df['sex'],alpha=0.5)\n",
    "    axes = plt.gca()\n",
    "    axes.set_xlim([0,10])\n",
    "    axes.set_ylim([0,10])\n",
    "    print(len(df))\n",
    "    plt.show()"
   ]
  },
  {
   "cell_type": "markdown",
   "metadata": {},
   "source": [
    "### PARTY"
   ]
  },
  {
   "cell_type": "code",
   "execution_count": 20,
   "metadata": {
    "scrolled": false
   },
   "outputs": [
    {
     "data": {
      "image/png": "[encoded data removed]",
      "text/plain": [
       "<matplotlib.figure.Figure at 0x11474aa90>"
      ]
     },
     "metadata": {},
     "output_type": "display_data"
    },
    {
     "data": {
      "image/png": "[encoded data removed]",
      "text/plain": [
       "<matplotlib.figure.Figure at 0x11474aa58>"
      ]
     },
     "metadata": {},
     "output_type": "display_data"
    },
    {
     "data": {
      "image/png": "[encoded data removed]",
      "text/plain": [
       "<matplotlib.figure.Figure at 0x11474a8d0>"
      ]
     },
     "metadata": {},
     "output_type": "display_data"
    },
    {
     "data": {
      "image/png": "[encoded data removed]",
      "text/plain": [
       "<matplotlib.figure.Figure at 0x11474a860>"
      ]
     },
     "metadata": {},
     "output_type": "display_data"
    },
    {
     "data": {
      "image/png": "[encoded data removed]",
      "text/plain": [
       "<matplotlib.figure.Figure at 0x1147f9c88>"
      ]
     },
     "metadata": {},
     "output_type": "display_data"
    },
    {
     "data": {
      "image/png": "[encoded data removed]",
      "text/plain": [
       "<matplotlib.figure.Figure at 0x1147e8320>"
      ]
     },
     "metadata": {},
     "output_type": "display_data"
    },
    {
     "data": {
      "image/png": "[encoded data removed]",
      "text/plain": [
       "<matplotlib.figure.Figure at 0x113b48eb8>"
      ]
     },
     "metadata": {},
     "output_type": "display_data"
    },
    {
     "data": {
      "image/png": "[encoded data removed]",
      "text/plain": [
       "<matplotlib.figure.Figure at 0x114975128>"
      ]
     },
     "metadata": {},
     "output_type": "display_data"
    }
   ],
   "source": [
    "for value in grid['party'].unique():\n",
    "    df = grid[grid.party==value]\n",
    "    plt.scatter(df['x'], df['y'], s=df['count'], c=df['party'],alpha=0.5)\n",
    "    axes = plt.gca()\n",
    "    axes.set_xlim([0,10])\n",
    "    axes.set_ylim([0,10])\n",
    "    plt.title('party number {}'.format(value))\n",
    "    plt.show()"
   ]
  },
  {
   "cell_type": "markdown",
   "metadata": {},
   "source": [
    "### DISTRICT"
   ]
  },
  {
   "cell_type": "code",
   "execution_count": 21,
   "metadata": {
    "scrolled": false
   },
   "outputs": [
    {
     "name": "stdout",
     "output_type": "stream",
     "text": [
      "39\n"
     ]
    },
    {
     "data": {
      "image/png": "[encoded data removed]",
      "text/plain": [
       "<matplotlib.figure.Figure at 0x115150f98>"
      ]
     },
     "metadata": {},
     "output_type": "display_data"
    },
    {
     "name": "stdout",
     "output_type": "stream",
     "text": [
      "14\n"
     ]
    },
    {
     "data": {
      "image/png": "[encoded data removed]",
      "text/plain": [
       "<matplotlib.figure.Figure at 0x114794198>"
      ]
     },
     "metadata": {},
     "output_type": "display_data"
    },
    {
     "name": "stdout",
     "output_type": "stream",
     "text": [
      "6\n"
     ]
    },
    {
     "data": {
      "image/png": "[encoded data removed]",
      "text/plain": [
       "<matplotlib.figure.Figure at 0x115155860>"
      ]
     },
     "metadata": {},
     "output_type": "display_data"
    },
    {
     "name": "stdout",
     "output_type": "stream",
     "text": [
      "11\n"
     ]
    },
    {
     "data": {
      "image/png": "[encoded data removed]",
      "text/plain": [
       "<matplotlib.figure.Figure at 0x11530aa20>"
      ]
     },
     "metadata": {},
     "output_type": "display_data"
    },
    {
     "name": "stdout",
     "output_type": "stream",
     "text": [
      "9\n"
     ]
    },
    {
     "data": {
      "image/png": "[encoded data removed]",
      "text/plain": [
       "<matplotlib.figure.Figure at 0x1151552b0>"
      ]
     },
     "metadata": {},
     "output_type": "display_data"
    },
    {
     "name": "stdout",
     "output_type": "stream",
     "text": [
      "7\n"
     ]
    },
    {
     "data": {
      "image/png": "[encoded data removed]",
      "text/plain": [
       "<matplotlib.figure.Figure at 0x11530abe0>"
      ]
     },
     "metadata": {},
     "output_type": "display_data"
    },
    {
     "name": "stdout",
     "output_type": "stream",
     "text": [
      "18\n"
     ]
    },
    {
     "data": {
      "image/png": "[encoded data removed]",
      "text/plain": [
       "<matplotlib.figure.Figure at 0x114b4e080>"
      ]
     },
     "metadata": {},
     "output_type": "display_data"
    },
    {
     "name": "stdout",
     "output_type": "stream",
     "text": [
      "13\n"
     ]
    },
    {
     "data": {
      "image/png": "[encoded data removed]",
      "text/plain": [
       "<matplotlib.figure.Figure at 0x114d26f60>"
      ]
     },
     "metadata": {},
     "output_type": "display_data"
    },
    {
     "name": "stdout",
     "output_type": "stream",
     "text": [
      "7\n"
     ]
    },
    {
     "data": {
      "image/png": "[encoded data removed]",
      "text/plain": [
       "<matplotlib.figure.Figure at 0x114b4e6d8>"
      ]
     },
     "metadata": {},
     "output_type": "display_data"
    },
    {
     "name": "stdout",
     "output_type": "stream",
     "text": [
      "10\n"
     ]
    },
    {
     "data": {
      "image/png": "[encoded data removed]",
      "text/plain": [
       "<matplotlib.figure.Figure at 0x114c2ec50>"
      ]
     },
     "metadata": {},
     "output_type": "display_data"
    },
    {
     "name": "stdout",
     "output_type": "stream",
     "text": [
      "9\n"
     ]
    },
    {
     "data": {
      "image/png": "[encoded data removed]",
      "text/plain": [
       "<matplotlib.figure.Figure at 0x114949b38>"
      ]
     },
     "metadata": {},
     "output_type": "display_data"
    },
    {
     "name": "stdout",
     "output_type": "stream",
     "text": [
      "17\n"
     ]
    },
    {
     "data": {
      "image/png": "[encoded data removed]",
      "text/plain": [
       "<matplotlib.figure.Figure at 0x115087358>"
      ]
     },
     "metadata": {},
     "output_type": "display_data"
    },
    {
     "name": "stdout",
     "output_type": "stream",
     "text": [
      "29\n"
     ]
    },
    {
     "data": {
      "image/png": "[encoded data removed]",
      "text/plain": [
       "<matplotlib.figure.Figure at 0x114c2eda0>"
      ]
     },
     "metadata": {},
     "output_type": "display_data"
    },
    {
     "name": "stdout",
     "output_type": "stream",
     "text": [
      "11\n"
     ]
    },
    {
     "data": {
      "image/png": "[encoded data removed]",
      "text/plain": [
       "<matplotlib.figure.Figure at 0x1149d3f28>"
      ]
     },
     "metadata": {},
     "output_type": "display_data"
    },
    {
     "name": "stdout",
     "output_type": "stream",
     "text": [
      "11\n"
     ]
    },
    {
     "data": {
      "image/png": "[encoded data removed]",
      "text/plain": [
       "<matplotlib.figure.Figure at 0x1149d35c0>"
      ]
     },
     "metadata": {},
     "output_type": "display_data"
    },
    {
     "name": "stdout",
     "output_type": "stream",
     "text": [
      "11\n"
     ]
    },
    {
     "data": {
      "image/png": "[encoded data removed]",
      "text/plain": [
       "<matplotlib.figure.Figure at 0x113b48e10>"
      ]
     },
     "metadata": {},
     "output_type": "display_data"
    },
    {
     "name": "stdout",
     "output_type": "stream",
     "text": [
      "11\n"
     ]
    },
    {
     "data": {
      "image/png": "[encoded data removed]",
      "text/plain": [
       "<matplotlib.figure.Figure at 0x1149d3320>"
      ]
     },
     "metadata": {},
     "output_type": "display_data"
    },
    {
     "name": "stdout",
     "output_type": "stream",
     "text": [
      "11\n"
     ]
    },
    {
     "data": {
      "image/png": "[encoded data removed]",
      "text/plain": [
       "<matplotlib.figure.Figure at 0x115437f98>"
      ]
     },
     "metadata": {},
     "output_type": "display_data"
    },
    {
     "name": "stdout",
     "output_type": "stream",
     "text": [
      "10\n"
     ]
    },
    {
     "data": {
      "image/png": "[encoded data removed]",
      "text/plain": [
       "<matplotlib.figure.Figure at 0x114211da0>"
      ]
     },
     "metadata": {},
     "output_type": "display_data"
    },
    {
     "name": "stdout",
     "output_type": "stream",
     "text": [
      "10\n"
     ]
    },
    {
     "data": {
      "image/png": "[encoded data removed]",
      "text/plain": [
       "<matplotlib.figure.Figure at 0x1149d3cc0>"
      ]
     },
     "metadata": {},
     "output_type": "display_data"
    },
    {
     "name": "stdout",
     "output_type": "stream",
     "text": [
      "12\n"
     ]
    },
    {
     "data": {
      "image/png": "[encoded data removed]",
      "text/plain": [
       "<matplotlib.figure.Figure at 0x113b48b00>"
      ]
     },
     "metadata": {},
     "output_type": "display_data"
    },
    {
     "name": "stdout",
     "output_type": "stream",
     "text": [
      "9\n"
     ]
    },
    {
     "data": {
      "image/png": "[encoded data removed]",
      "text/plain": [
       "<matplotlib.figure.Figure at 0x115004a20>"
      ]
     },
     "metadata": {},
     "output_type": "display_data"
    },
    {
     "name": "stdout",
     "output_type": "stream",
     "text": [
      "11\n"
     ]
    },
    {
     "data": {
      "image/png": "[encoded data removed]",
      "text/plain": [
       "<matplotlib.figure.Figure at 0x1147f97b8>"
      ]
     },
     "metadata": {},
     "output_type": "display_data"
    },
    {
     "name": "stdout",
     "output_type": "stream",
     "text": [
      "10\n"
     ]
    },
    {
     "data": {
      "image/png": "[encoded data removed]",
      "text/plain": [
       "<matplotlib.figure.Figure at 0x1149d3b70>"
      ]
     },
     "metadata": {},
     "output_type": "display_data"
    },
    {
     "name": "stdout",
     "output_type": "stream",
     "text": [
      "11\n"
     ]
    },
    {
     "data": {
      "image/png": "[encoded data removed]",
      "text/plain": [
       "<matplotlib.figure.Figure at 0x11501d438>"
      ]
     },
     "metadata": {},
     "output_type": "display_data"
    },
    {
     "name": "stdout",
     "output_type": "stream",
     "text": [
      "11\n"
     ]
    },
    {
     "data": {
      "image/png": "[encoded data removed]",
      "text/plain": [
       "<matplotlib.figure.Figure at 0x11501d390>"
      ]
     },
     "metadata": {},
     "output_type": "display_data"
    },
    {
     "name": "stdout",
     "output_type": "stream",
     "text": [
      "6\n"
     ]
    },
    {
     "data": {
      "image/png": "[encoded data removed]",
      "text/plain": [
       "<matplotlib.figure.Figure at 0x1151454a8>"
      ]
     },
     "metadata": {},
     "output_type": "display_data"
    },
    {
     "name": "stdout",
     "output_type": "stream",
     "text": [
      "2\n"
     ]
    },
    {
     "data": {
      "image/png": "[encoded data removed]",
      "text/plain": [
       "<matplotlib.figure.Figure at 0x11501d780>"
      ]
     },
     "metadata": {},
     "output_type": "display_data"
    },
    {
     "name": "stdout",
     "output_type": "stream",
     "text": [
      "13\n"
     ]
    },
    {
     "data": {
      "image/png": "[encoded data removed]",
      "text/plain": [
       "<matplotlib.figure.Figure at 0x114793898>"
      ]
     },
     "metadata": {},
     "output_type": "display_data"
    }
   ],
   "source": [
    "for value in grid['district'].unique():\n",
    "    df = grid[grid.district==value]\n",
    "    plt.scatter(df['x'], df['y'], s=df['count'], c=df['district'],alpha=0.5)\n",
    "    axes = plt.gca()\n",
    "    axes.set_xlim([0,10])\n",
    "    axes.set_ylim([0,10])\n",
    "    print(len(df))\n",
    "    plt.show()"
   ]
  },
  {
   "cell_type": "code",
   "execution_count": 22,
   "metadata": {},
   "outputs": [
    {
     "data": {
      "text/plain": [
       "2.0     39\n",
       "1.0     29\n",
       "16.0    18\n",
       "5.0     17\n",
       "13.0    14\n",
       "17.0    13\n",
       "6.0     13\n",
       "3.0     12\n",
       "29.0    11\n",
       "24.0    11\n",
       "25.0    11\n",
       "4.0     11\n",
       "28.0    11\n",
       "15.0    11\n",
       "22.0    11\n",
       "14.0    11\n",
       "21.0    11\n",
       "23.0    10\n",
       "26.0    10\n",
       "18.0    10\n",
       "12.0    10\n",
       "8.0      9\n",
       "11.0     9\n",
       "20.0     9\n",
       "7.0      7\n",
       "19.0     7\n",
       "10.0     6\n",
       "27.0     6\n",
       "9.0      2\n",
       "Name: district, dtype: int64"
      ]
     },
     "execution_count": 22,
     "metadata": {},
     "output_type": "execute_result"
    }
   ],
   "source": [
    "grid.district.value_counts()"
   ]
  },
  {
   "cell_type": "code",
   "execution_count": null,
   "metadata": {},
   "outputs": [],
   "source": []
  }
 ],
 "metadata": {
  "kernelspec": {
   "display_name": "Python 3",
   "language": "python",
   "name": "python3"
  },
  "language_info": {
   "codemirror_mode": {
    "name": "ipython",
    "version": 3
   },
   "file_extension": ".py",
   "mimetype": "text/x-python",
   "name": "python",
   "nbconvert_exporter": "python",
   "pygments_lexer": "ipython3",
   "version": "3.5.2"
  }
 },
 "nbformat": 4,
 "nbformat_minor": 2
}
