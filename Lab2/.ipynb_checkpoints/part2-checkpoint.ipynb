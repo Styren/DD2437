{
 "cells": [
  {
   "cell_type": "code",
   "execution_count": 812,
   "metadata": {},
   "outputs": [],
   "source": [
    "import numpy as np\n",
    "import matplotlib.pyplot as plt\n",
    "import matplotlib.cm as cm\n",
    "from math import ceil, floor\n",
    "from scipy.spatial.distance import cityblock\n",
    "from matplotlib.path import Path\n",
    "import matplotlib.patches as patches\n",
    "import pandas as pd"
   ]
  },
  {
   "cell_type": "markdown",
   "metadata": {},
   "source": [
    "### Build SOM structure"
   ]
  },
  {
   "cell_type": "code",
   "execution_count": null,
   "metadata": {},
   "outputs": [],
   "source": [
    "class SOM():\n",
    "    def __init__(self, data, weightdim):\n",
    "        self.weights = np.random.rand(weightdim[0],weightdim[1])\n",
    "        self.data = data\n",
    "\n",
    "    def train(self, eta, iterations, data = None, starting_fraction = None, func = None):\n",
    "        if data == None:\n",
    "            data = self.data\n",
    "        if starting_fraction == None:\n",
    "            starting_fraction = 4\n",
    "        \n",
    "        area_size = ceil(self.weights.shape[0]/starting_fraction)\n",
    "        size_step = area_size/iterations\n",
    "        for epoch in range(iterations):\n",
    "            self.iterate(data, area_size, eta, func)\n",
    "            area_size = self.update_size(area_size, size_step)\n",
    "            if epoch%10==0:\n",
    "                print(\"Completed epoch {}\".format(epoch))\n",
    "    \n",
    "    def update_size(self, area_size, size_step):\n",
    "        area_size = max(ceil(area_size - size_step), 1)\n",
    "        return area_size\n",
    "\n",
    "    \n",
    "    def iterate(self, data, area_size, eta, func):\n",
    "        if func == None:\n",
    "            func = self.find_neighbourhood\n",
    "        elif func == 'circular':\n",
    "            func = self.find_circular_neighbourhood\n",
    "        elif func == 'manhattan':\n",
    "            func = self.find_manhattan_neighbourhood\n",
    "        \n",
    "        for dataindex in range(data.shape[0]):\n",
    "            datapoint = data[dataindex,:].copy()\n",
    "            winner = self.find_winner(datapoint)\n",
    "            neighbourhood = func(winner, area_size)\n",
    "            self.update_weights(neighbourhood, eta, datapoint)\n",
    "            \n",
    "    def update_weights(self, neighbourhood, eta, datapoint):\n",
    "        for weight_index in neighbourhood:\n",
    "            weight = self.weights[weight_index,:].copy()\n",
    "            new_weight = np.add(weight, eta*(np.subtract(datapoint,weight)))\n",
    "            self.weights[weight_index,:] = new_weight\n",
    "            \n",
    "    def distance(self, x, y):\n",
    "        sub_vec = np.subtract(x, y)\n",
    "        dist = np.dot(sub_vec.T, sub_vec)\n",
    "        return dist\n",
    "            \n",
    "    def find_winner(self, datapoint):\n",
    "        min_dist = self.distance(self.weights[0,:], datapoint)\n",
    "        min_index = 0\n",
    "        for weightindex in range(self.weights.shape[0]):\n",
    "            dist = self.distance(self.weights[weightindex,:], datapoint)\n",
    "            if dist < min_dist:\n",
    "                min_dist = dist\n",
    "                min_index = weightindex\n",
    "        return min_index\n",
    "    \n",
    "    def find_circular_neighbourhood(self, winner, area_size):\n",
    "        diff = int(area_size/2)\n",
    "        weight_length = self.weights.shape[0]\n",
    "        lower = (winner - diff) % weight_length\n",
    "        upper = (winner + diff) % weight_length\n",
    "        if lower > upper:\n",
    "            lower_range = list(range(lower,weight_length))\n",
    "            upper_range = list(range(0,upper))\n",
    "            neighbourhood = lower_range.append(upper_range)\n",
    "        else:\n",
    "            neighbourhood = range(lower,upper)\n",
    "\n",
    "        return range(lower, upper)\n",
    "    \n",
    "    def find_manhattan_neighbourhood(self, winner, area_size):\n",
    "        grid_winner = np.array([floor(winner/10), winner % 10])\n",
    "        neighbourhood = []\n",
    "\n",
    "        for i in range(100):\n",
    "            i_grid = np.array([floor(i/10), i % 10])\n",
    "            if cityblock(grid_winner, i_grid) <= area_size:\n",
    "                neighbourhood.append(i)\n",
    "        return neighbourhood\n",
    "    \n",
    "    def find_neighbourhood(self, winner, area_size):\n",
    "        diff = int(area_size/2)\n",
    "        max_ind = self.weights.shape[0]\n",
    "        if area_size == 1:\n",
    "            if winner == max_ind:\n",
    "                lower = winner -1\n",
    "                upper = winner\n",
    "            else:\n",
    "                lower = winner\n",
    "                upper = min(winner+1, max_ind)\n",
    "        elif area_size == 2:\n",
    "            if np.random.rand() > 1:\n",
    "                lower = winner\n",
    "                upper = min(winner + 2, max_ind)\n",
    "            else:\n",
    "                lower = max(winner-2, 0)\n",
    "                upper = winner\n",
    "        else:\n",
    "            lower = max(winner - diff, 0)\n",
    "            upper = min(winner + diff, max_ind)\n",
    "        \n",
    "        neighbourhood = range(lower,upper)\n",
    "        return neighbourhood\n",
    "    \n",
    "    def predict(self, data, labels):\n",
    "        predictions = []\n",
    "        for dataindex in range(data.shape[0]):\n",
    "            datapoint = data[dataindex,:].copy()\n",
    "            winner = self.find_winner(datapoint)\n",
    "            predictions.append([winner, labels[dataindex]])\n",
    "        predictions = np.array(predictions,dtype=object)\n",
    "        predictions = predictions[predictions[:,0].argsort()]\n",
    "  \n",
    "        return predictions\n",
    "        \n",
    "        "
   ]
  },
  {
   "cell_type": "code",
   "execution_count": 478,
   "metadata": {},
   "outputs": [],
   "source": [
    "for index in range(8,4):\n",
    "    print(index)"
   ]
  },
  {
   "cell_type": "markdown",
   "metadata": {},
   "source": [
    "### Animal Ordering"
   ]
  },
  {
   "cell_type": "code",
   "execution_count": 479,
   "metadata": {},
   "outputs": [],
   "source": [
    "animal_data = np.loadtxt('data/animals.dat', delimiter = ',', dtype = int)\n",
    "animalNames = np.loadtxt('data/animalnames.txt', dtype = str)"
   ]
  },
  {
   "cell_type": "code",
   "execution_count": 480,
   "metadata": {},
   "outputs": [],
   "source": [
    "animal_data = np.reshape(animal_data, (32,84))"
   ]
  },
  {
   "cell_type": "code",
   "execution_count": 481,
   "metadata": {},
   "outputs": [
    {
     "name": "stdout",
     "output_type": "stream",
     "text": [
      "Completed epoch 0\n",
      "Completed epoch 10\n",
      "Completed epoch 20\n",
      "Completed epoch 30\n",
      "Completed epoch 40\n",
      "Completed epoch 50\n",
      "Completed epoch 60\n",
      "Completed epoch 70\n",
      "Completed epoch 80\n",
      "Completed epoch 90\n",
      "[[0 \"'camel'\"]\n",
      " [0 \"'pig'\"]\n",
      " [0 \"'giraffe'\"]\n",
      " [0 \"'horse'\"]\n",
      " [1 \"'lion'\"]\n",
      " [6 \"'antelop'\"]\n",
      " [12 \"'ape'\"]\n",
      " [12 \"'cat'\"]\n",
      " [14 \"'kangaroo'\"]\n",
      " [14 \"'elephant'\"]\n",
      " [16 \"'rabbit'\"]\n",
      " [20 \"'bat'\"]\n",
      " [21 \"'skunk'\"]\n",
      " [27 \"'rat'\"]\n",
      " [33 \"'dog'\"]\n",
      " [33 \"'hyena'\"]\n",
      " [34 \"'walrus'\"]\n",
      " [34 \"'bear'\"]\n",
      " [46 \"'frog'\"]\n",
      " [46 \"'crocodile'\"]\n",
      " [46 \"'seaturtle'\"]\n",
      " [59 \"'duck'\"]\n",
      " [59 \"'ostrich'\"]\n",
      " [59 \"'pelican'\"]\n",
      " [59 \"'penguin'\"]\n",
      " [72 \"'spider'\"]\n",
      " [85 \"'housefly'\"]\n",
      " [85 \"'moskito'\"]\n",
      " [86 \"'butterfly'\"]\n",
      " [98 \"'beetle'\"]\n",
      " [99 \"'dragonfly'\"]\n",
      " [99 \"'grasshopper'\"]]\n"
     ]
    }
   ],
   "source": [
    "som = SOM(animal_data, (100, 84))\n",
    "som.train(0.1, 100)\n",
    "pred = som.predict(animal_data, animalNames)\n",
    "print(pred)"
   ]
  },
  {
   "cell_type": "markdown",
   "metadata": {},
   "source": [
    "### TSP"
   ]
  },
  {
   "cell_type": "code",
   "execution_count": 482,
   "metadata": {},
   "outputs": [],
   "source": [
    "cities_data = np.loadtxt('data/cities.dat', delimiter = ',', dtype = float)\n",
    "cities_labels = list(range(len(cities_data)))"
   ]
  },
  {
   "cell_type": "code",
   "execution_count": 493,
   "metadata": {},
   "outputs": [
    {
     "name": "stdout",
     "output_type": "stream",
     "text": [
      "Completed epoch 0\n",
      "Completed epoch 10\n",
      "Completed epoch 20\n",
      "Completed epoch 30\n",
      "Completed epoch 40\n",
      "Completed epoch 50\n",
      "Completed epoch 60\n",
      "Completed epoch 70\n",
      "Completed epoch 80\n",
      "Completed epoch 90\n"
     ]
    }
   ],
   "source": [
    "som =  SOM(cities_data, (10,2))\n",
    "som.train(0.1, 100, starting_fraction = 4, func = 'circular')\n",
    "cities_prediction = som.predict(cities_data, cities_labels)"
   ]
  },
  {
   "cell_type": "code",
   "execution_count": 494,
   "metadata": {},
   "outputs": [
    {
     "data": {
      "image/png": "[encoded data removed]",
      "text/plain": [
       "<matplotlib.figure.Figure at 0x1128e7160>"
      ]
     },
     "metadata": {},
     "output_type": "display_data"
    }
   ],
   "source": [
    "verts = np.empty(cities_data.shape)\n",
    "i = 0\n",
    "for index in cities_prediction[:,1]:\n",
    "    verts[i] = cities_data[index,:]\n",
    "    i += 1\n",
    "\n",
    "codes = [Path.LINETO]*len(cities_data)\n",
    "codes[0] = Path.MOVETO\n",
    "codes[-1] = Path.CLOSEPOLY\n",
    "\n",
    "path = Path(verts, codes)\n",
    "fig = plt.figure()\n",
    "ax = fig.add_subplot(111)\n",
    "patch = patches.PathPatch(path, facecolor='orange', lw=2)\n",
    "ax.add_patch(patch)\n",
    "ax.set_xlim(0,1)\n",
    "ax.set_ylim(0,1)\n",
    "plt.show()"
   ]
  },
  {
   "cell_type": "markdown",
   "metadata": {},
   "source": [
    "### Votes of MPs"
   ]
  },
  {
   "cell_type": "code",
   "execution_count": 780,
   "metadata": {},
   "outputs": [],
   "source": [
    "votes = np.loadtxt('data/votes.dat', delimiter = ',', dtype = float)\n",
    "mpnames = np.genfromtxt('data/mpnames.txt', delimiter ='\\n', dtype = str)\n",
    "mpsex  = np.genfromtxt('data/mpsex.dat', delimiter =',', dtype = float)\n",
    "mpdistrict  = np.genfromtxt('data/mpdistrict.dat', delimiter =',', dtype = float)\n",
    "mpparty = np.genfromtxt('data/mpparty.dat', delimiter =',', dtype = float)\n",
    "votes = np.reshape(votes,(349,31))\n",
    "votes_labels = list(range(len(votes)))"
   ]
  },
  {
   "cell_type": "code",
   "execution_count": 633,
   "metadata": {},
   "outputs": [
    {
     "data": {
      "text/plain": [
       "349"
      ]
     },
     "execution_count": 633,
     "metadata": {},
     "output_type": "execute_result"
    }
   ],
   "source": [
    "len(mpsex)"
   ]
  },
  {
   "cell_type": "code",
   "execution_count": 733,
   "metadata": {},
   "outputs": [
    {
     "name": "stdout",
     "output_type": "stream",
     "text": [
      "Completed epoch 0\n",
      "Completed epoch 10\n",
      "Completed epoch 20\n",
      "Completed epoch 30\n",
      "Completed epoch 40\n",
      "Completed epoch 50\n",
      "Completed epoch 60\n",
      "Completed epoch 70\n",
      "Completed epoch 80\n",
      "Completed epoch 90\n"
     ]
    }
   ],
   "source": [
    "som =  SOM(votes, (100,31))\n",
    "som.train(0.1, 100, starting_fraction = 50, func = 'manhattan')\n",
    "votes_prediction = som.predict(votes, votes_labels)"
   ]
  },
  {
   "cell_type": "code",
   "execution_count": 734,
   "metadata": {},
   "outputs": [],
   "source": [
    "def to_grid(data):\n",
    "    result = np.empty((349,2))\n",
    "    i = 0\n",
    "    for datapoint in data:\n",
    "        x = floor(datapoint/10)\n",
    "        y = datapoint%10\n",
    "        result[i, 0] = x\n",
    "        result[i, 1] = y\n",
    "        i = i+1\n",
    "    return result"
   ]
  },
  {
   "cell_type": "code",
   "execution_count": 760,
   "metadata": {},
   "outputs": [],
   "source": [
    "npgrid = to_grid(votes_prediction[:,0])\n",
    "unique, counts = np.unique(npgrid, return_counts=True, axis = 0)\n",
    "counts = counts.reshape(unique.shape[0],1)\n",
    "compact_grid = np.column_stack((unique,counts))"
   ]
  },
  {
   "cell_type": "code",
   "execution_count": 781,
   "metadata": {},
   "outputs": [],
   "source": [
    "names = (pd.DataFrame(mpnames)\n",
    "             .rename(columns={0:'names'})\n",
    "             .reindex(votes_prediction[:,1])\n",
    "             .reset_index()\n",
    "             .rename(columns={'index':'id'}))\n",
    "sex = (pd.DataFrame(mpsex)\n",
    "             .rename(columns={0:'sex'})\n",
    "             .reindex(grid.id.values)\n",
    "             .reset_index()\n",
    "             .rename(columns={'index':'id'}))\n",
    "district = (pd.DataFrame(mpdistrict)\n",
    "             .rename(columns={0:'district'})\n",
    "             .reindex(grid.id.values)\n",
    "             .reset_index()\n",
    "             .rename(columns={'index':'id'}))\n",
    "party = (pd.DataFrame(mpparty)\n",
    "             .rename(columns={0:'party'})\n",
    "             .reindex(grid.id.values)\n",
    "             .reset_index()\n",
    "             .rename(columns={'index':'id'}))\n"
   ]
  },
  {
   "cell_type": "code",
   "execution_count": 799,
   "metadata": {},
   "outputs": [],
   "source": [
    "grid = (pd.DataFrame(npgrid)\n",
    "          .rename(columns={0:'x',1:'y'}))\n",
    "grid['original_output'] = votes_prediction[:,0]\n",
    "grid['id'] = votes_prediction[:,1]\n",
    "\n",
    "\n",
    "#Merge shit here!\n",
    "grid = (grid.merge(names, how ='left', on='id')\n",
    "            .merge(sex, how = 'left', on ='id')\n",
    "            .merge(district, how ='left', on = 'id')\n",
    "            .merge(party, how ='left', on='id')\n",
    "            .merge(pd.DataFrame(compact_grid).rename(columns={0:'x',1:'y',2:'count'}), on =['x','y'], how = 'left'))"
   ]
  },
  {
   "cell_type": "code",
   "execution_count": 800,
   "metadata": {},
   "outputs": [
    {
     "data": {
      "text/html": [
       "<div>\n",
       "<style scoped>\n",
       "    .dataframe tbody tr th:only-of-type {\n",
       "        vertical-align: middle;\n",
       "    }\n",
       "\n",
       "    .dataframe tbody tr th {\n",
       "        vertical-align: top;\n",
       "    }\n",
       "\n",
       "    .dataframe thead th {\n",
       "        text-align: right;\n",
       "    }\n",
       "</style>\n",
       "<table border=\"1\" class=\"dataframe\">\n",
       "  <thead>\n",
       "    <tr style=\"text-align: right;\">\n",
       "      <th></th>\n",
       "      <th>x</th>\n",
       "      <th>y</th>\n",
       "      <th>original_output</th>\n",
       "      <th>id</th>\n",
       "      <th>names</th>\n",
       "      <th>sex</th>\n",
       "      <th>district</th>\n",
       "      <th>party</th>\n",
       "      <th>count</th>\n",
       "    </tr>\n",
       "  </thead>\n",
       "  <tbody>\n",
       "    <tr>\n",
       "      <th>0</th>\n",
       "      <td>0.0</td>\n",
       "      <td>0.0</td>\n",
       "      <td>0</td>\n",
       "      <td>287</td>\n",
       "      <td>Thorborg Karin</td>\n",
       "      <td>1.0</td>\n",
       "      <td>23.0</td>\n",
       "      <td>4.0</td>\n",
       "      <td>22.0</td>\n",
       "    </tr>\n",
       "    <tr>\n",
       "      <th>1</th>\n",
       "      <td>0.0</td>\n",
       "      <td>0.0</td>\n",
       "      <td>0</td>\n",
       "      <td>32</td>\n",
       "      <td>Schyman Gudrun</td>\n",
       "      <td>1.0</td>\n",
       "      <td>2.0</td>\n",
       "      <td>0.0</td>\n",
       "      <td>22.0</td>\n",
       "    </tr>\n",
       "    <tr>\n",
       "      <th>2</th>\n",
       "      <td>0.0</td>\n",
       "      <td>0.0</td>\n",
       "      <td>0</td>\n",
       "      <td>341</td>\n",
       "      <td>Holma Siv</td>\n",
       "      <td>1.0</td>\n",
       "      <td>29.0</td>\n",
       "      <td>4.0</td>\n",
       "      <td>22.0</td>\n",
       "    </tr>\n",
       "    <tr>\n",
       "      <th>3</th>\n",
       "      <td>0.0</td>\n",
       "      <td>0.0</td>\n",
       "      <td>0</td>\n",
       "      <td>251</td>\n",
       "      <td>Rosengren Per</td>\n",
       "      <td>0.0</td>\n",
       "      <td>20.0</td>\n",
       "      <td>4.0</td>\n",
       "      <td>22.0</td>\n",
       "    </tr>\n",
       "    <tr>\n",
       "      <th>4</th>\n",
       "      <td>0.0</td>\n",
       "      <td>0.0</td>\n",
       "      <td>0</td>\n",
       "      <td>325</td>\n",
       "      <td>Skold Jansson Camilla</td>\n",
       "      <td>1.0</td>\n",
       "      <td>27.0</td>\n",
       "      <td>4.0</td>\n",
       "      <td>22.0</td>\n",
       "    </tr>\n",
       "  </tbody>\n",
       "</table>\n",
       "</div>"
      ],
      "text/plain": [
       "     x    y original_output   id                  names  sex  district  party  \\\n",
       "0  0.0  0.0               0  287         Thorborg Karin  1.0      23.0    4.0   \n",
       "1  0.0  0.0               0   32         Schyman Gudrun  1.0       2.0    0.0   \n",
       "2  0.0  0.0               0  341              Holma Siv  1.0      29.0    4.0   \n",
       "3  0.0  0.0               0  251          Rosengren Per  0.0      20.0    4.0   \n",
       "4  0.0  0.0               0  325  Skold Jansson Camilla  1.0      27.0    4.0   \n",
       "\n",
       "   count  \n",
       "0   22.0  \n",
       "1   22.0  \n",
       "2   22.0  \n",
       "3   22.0  \n",
       "4   22.0  "
      ]
     },
     "execution_count": 800,
     "metadata": {},
     "output_type": "execute_result"
    }
   ],
   "source": [
    "grid.head()"
   ]
  },
  {
   "cell_type": "markdown",
   "metadata": {},
   "source": [
    "### SEX"
   ]
  },
  {
   "cell_type": "code",
   "execution_count": 829,
   "metadata": {},
   "outputs": [
    {
     "name": "stdout",
     "output_type": "stream",
     "text": [
      "163\n"
     ]
    },
    {
     "data": {
      "image/png": "[encoded data removed]",
      "text/plain": [
       "<matplotlib.figure.Figure at 0x1179a9e48>"
      ]
     },
     "metadata": {},
     "output_type": "display_data"
    },
    {
     "name": "stdout",
     "output_type": "stream",
     "text": [
      "186\n"
     ]
    },
    {
     "data": {
      "image/png": "[encoded data removed]",
      "text/plain": [
       "<matplotlib.figure.Figure at 0x117d88c18>"
      ]
     },
     "metadata": {},
     "output_type": "display_data"
    }
   ],
   "source": [
    "for value in grid['sex'].unique():\n",
    "    df = grid[grid.sex==value]\n",
    "    plt.scatter(df['x'], df['y'], s=df['count'], c=df['sex'],alpha=0.5)\n",
    "    axes = plt.gca()\n",
    "    axes.set_xlim([0,10])\n",
    "    axes.set_ylim([0,10])\n",
    "    print(len(df))\n",
    "    plt.show()"
   ]
  },
  {
   "cell_type": "markdown",
   "metadata": {},
   "source": [
    "### PARTY"
   ]
  },
  {
   "cell_type": "code",
   "execution_count": 828,
   "metadata": {
    "scrolled": false
   },
   "outputs": [
    {
     "data": {
      "image/png": "[encoded data removed]",
      "text/plain": [
       "<matplotlib.figure.Figure at 0x1179a9828>"
      ]
     },
     "metadata": {},
     "output_type": "display_data"
    },
    {
     "data": {
      "image/png": "[encoded data removed]",
      "text/plain": [
       "<matplotlib.figure.Figure at 0x1179a9be0>"
      ]
     },
     "metadata": {},
     "output_type": "display_data"
    },
    {
     "data": {
      "image/png": "[encoded data removed]",
      "text/plain": [
       "<matplotlib.figure.Figure at 0x1179a9a20>"
      ]
     },
     "metadata": {},
     "output_type": "display_data"
    },
    {
     "data": {
      "image/png": "[encoded data removed]",
      "text/plain": [
       "<matplotlib.figure.Figure at 0x1179a99b0>"
      ]
     },
     "metadata": {},
     "output_type": "display_data"
    },
    {
     "data": {
      "image/png": "[encoded data removed]",
      "text/plain": [
       "<matplotlib.figure.Figure at 0x1177b3fd0>"
      ]
     },
     "metadata": {},
     "output_type": "display_data"
    },
    {
     "data": {
      "image/png": "[encoded data removed]",
      "text/plain": [
       "<matplotlib.figure.Figure at 0x117d88ba8>"
      ]
     },
     "metadata": {},
     "output_type": "display_data"
    },
    {
     "data": {
      "image/png": "[encoded data removed]",
      "text/plain": [
       "<matplotlib.figure.Figure at 0x111d66ba8>"
      ]
     },
     "metadata": {},
     "output_type": "display_data"
    },
    {
     "data": {
      "image/png": "[encoded data removed]",
      "text/plain": [
       "<matplotlib.figure.Figure at 0x117d00048>"
      ]
     },
     "metadata": {},
     "output_type": "display_data"
    }
   ],
   "source": [
    "for value in grid['party'].unique():\n",
    "    df = grid[grid.party==value]\n",
    "    plt.scatter(df['x'], df['y'], s=df['count'], c=df['party'],alpha=0.5)\n",
    "    axes = plt.gca()\n",
    "    axes.set_xlim([0,10])\n",
    "    axes.set_ylim([0,10])\n",
    "    plt.title('party number {}'.format(value))\n",
    "    plt.show()"
   ]
  },
  {
   "cell_type": "markdown",
   "metadata": {},
   "source": [
    "### DISTRICT"
   ]
  },
  {
   "cell_type": "code",
   "execution_count": 831,
   "metadata": {
    "scrolled": false
   },
   "outputs": [
    {
     "name": "stdout",
     "output_type": "stream",
     "text": [
      "10\n"
     ]
    },
    {
     "data": {
      "image/png": "[encoded data removed]",
      "text/plain": [
       "<matplotlib.figure.Figure at 0x117cd84e0>"
      ]
     },
     "metadata": {},
     "output_type": "display_data"
    },
    {
     "name": "stdout",
     "output_type": "stream",
     "text": [
      "39\n"
     ]
    },
    {
     "data": {
      "image/png": "[encoded data removed]",
      "text/plain": [
       "<matplotlib.figure.Figure at 0x117cd8588>"
      ]
     },
     "metadata": {},
     "output_type": "display_data"
    },
    {
     "name": "stdout",
     "output_type": "stream",
     "text": [
      "11\n"
     ]
    },
    {
     "data": {
      "image/png": "[encoded data removed]",
      "text/plain": [
       "<matplotlib.figure.Figure at 0x116823d68>"
      ]
     },
     "metadata": {},
     "output_type": "display_data"
    },
    {
     "name": "stdout",
     "output_type": "stream",
     "text": [
      "9\n"
     ]
    },
    {
     "data": {
      "image/png": "[encoded data removed]",
      "text/plain": [
       "<matplotlib.figure.Figure at 0x1151a6fd0>"
      ]
     },
     "metadata": {},
     "output_type": "display_data"
    },
    {
     "name": "stdout",
     "output_type": "stream",
     "text": [
      "6\n"
     ]
    },
    {
     "data": {
      "image/png": "[encoded data removed]",
      "text/plain": [
       "<matplotlib.figure.Figure at 0x116823ac8>"
      ]
     },
     "metadata": {},
     "output_type": "display_data"
    },
    {
     "name": "stdout",
     "output_type": "stream",
     "text": [
      "18\n"
     ]
    },
    {
     "data": {
      "image/png": "[encoded data removed]",
      "text/plain": [
       "<matplotlib.figure.Figure at 0x117c54ef0>"
      ]
     },
     "metadata": {},
     "output_type": "display_data"
    },
    {
     "name": "stdout",
     "output_type": "stream",
     "text": [
      "11\n"
     ]
    },
    {
     "data": {
      "image/png": "[encoded data removed]",
      "text/plain": [
       "<matplotlib.figure.Figure at 0x117f025c0>"
      ]
     },
     "metadata": {},
     "output_type": "display_data"
    },
    {
     "name": "stdout",
     "output_type": "stream",
     "text": [
      "29\n"
     ]
    },
    {
     "data": {
      "image/png": "[encoded data removed]",
      "text/plain": [
       "<matplotlib.figure.Figure at 0x1168234a8>"
      ]
     },
     "metadata": {},
     "output_type": "display_data"
    },
    {
     "name": "stdout",
     "output_type": "stream",
     "text": [
      "10\n"
     ]
    },
    {
     "data": {
      "image/png": "[encoded data removed]",
      "text/plain": [
       "<matplotlib.figure.Figure at 0x117d79cf8>"
      ]
     },
     "metadata": {},
     "output_type": "display_data"
    },
    {
     "name": "stdout",
     "output_type": "stream",
     "text": [
      "11\n"
     ]
    },
    {
     "data": {
      "image/png": "[encoded data removed]",
      "text/plain": [
       "<matplotlib.figure.Figure at 0x11681aa90>"
      ]
     },
     "metadata": {},
     "output_type": "display_data"
    },
    {
     "name": "stdout",
     "output_type": "stream",
     "text": [
      "11\n"
     ]
    },
    {
     "data": {
      "image/png": "[encoded data removed]",
      "text/plain": [
       "<matplotlib.figure.Figure at 0x117fd6080>"
      ]
     },
     "metadata": {},
     "output_type": "display_data"
    },
    {
     "name": "stdout",
     "output_type": "stream",
     "text": [
      "11\n"
     ]
    },
    {
     "data": {
      "image/png": "[encoded data removed]",
      "text/plain": [
       "<matplotlib.figure.Figure at 0x117e177b8>"
      ]
     },
     "metadata": {},
     "output_type": "display_data"
    },
    {
     "name": "stdout",
     "output_type": "stream",
     "text": [
      "17\n"
     ]
    },
    {
     "data": {
      "image/png": "[encoded data removed]",
      "text/plain": [
       "<matplotlib.figure.Figure at 0x117d79ba8>"
      ]
     },
     "metadata": {},
     "output_type": "display_data"
    },
    {
     "name": "stdout",
     "output_type": "stream",
     "text": [
      "11\n"
     ]
    },
    {
     "data": {
      "image/png": "[encoded data removed]",
      "text/plain": [
       "<matplotlib.figure.Figure at 0x116823668>"
      ]
     },
     "metadata": {},
     "output_type": "display_data"
    },
    {
     "name": "stdout",
     "output_type": "stream",
     "text": [
      "10\n"
     ]
    },
    {
     "data": {
      "image/png": "[encoded data removed]",
      "text/plain": [
       "<matplotlib.figure.Figure at 0x117d79c18>"
      ]
     },
     "metadata": {},
     "output_type": "display_data"
    },
    {
     "name": "stdout",
     "output_type": "stream",
     "text": [
      "11\n"
     ]
    },
    {
     "data": {
      "image/png": "[encoded data removed]",
      "text/plain": [
       "<matplotlib.figure.Figure at 0x117dc8fd0>"
      ]
     },
     "metadata": {},
     "output_type": "display_data"
    },
    {
     "name": "stdout",
     "output_type": "stream",
     "text": [
      "9\n"
     ]
    },
    {
     "data": {
      "image/png": "[encoded data removed]",
      "text/plain": [
       "<matplotlib.figure.Figure at 0x117dc8518>"
      ]
     },
     "metadata": {},
     "output_type": "display_data"
    },
    {
     "name": "stdout",
     "output_type": "stream",
     "text": [
      "11\n"
     ]
    },
    {
     "data": {
      "image/png": "[encoded data removed]",
      "text/plain": [
       "<matplotlib.figure.Figure at 0x117a8bcf8>"
      ]
     },
     "metadata": {},
     "output_type": "display_data"
    },
    {
     "name": "stdout",
     "output_type": "stream",
     "text": [
      "11\n"
     ]
    },
    {
     "data": {
      "image/png": "[encoded data removed]",
      "text/plain": [
       "<matplotlib.figure.Figure at 0x117a8b6d8>"
      ]
     },
     "metadata": {},
     "output_type": "display_data"
    },
    {
     "name": "stdout",
     "output_type": "stream",
     "text": [
      "10\n"
     ]
    },
    {
     "data": {
      "image/png": "[encoded data removed]",
      "text/plain": [
       "<matplotlib.figure.Figure at 0x117a8bc50>"
      ]
     },
     "metadata": {},
     "output_type": "display_data"
    },
    {
     "name": "stdout",
     "output_type": "stream",
     "text": [
      "9\n"
     ]
    },
    {
     "data": {
      "image/png": "[encoded data removed]",
      "text/plain": [
       "<matplotlib.figure.Figure at 0x1129929b0>"
      ]
     },
     "metadata": {},
     "output_type": "display_data"
    },
    {
     "name": "stdout",
     "output_type": "stream",
     "text": [
      "7\n"
     ]
    },
    {
     "data": {
      "image/png": "[encoded data removed]",
      "text/plain": [
       "<matplotlib.figure.Figure at 0x117a8b358>"
      ]
     },
     "metadata": {},
     "output_type": "display_data"
    },
    {
     "name": "stdout",
     "output_type": "stream",
     "text": [
      "14\n"
     ]
    },
    {
     "data": {
      "image/png": "[encoded data removed]",
      "text/plain": [
       "<matplotlib.figure.Figure at 0x117b122b0>"
      ]
     },
     "metadata": {},
     "output_type": "display_data"
    },
    {
     "name": "stdout",
     "output_type": "stream",
     "text": [
      "13\n"
     ]
    },
    {
     "data": {
      "image/png": "[encoded data removed]",
      "text/plain": [
       "<matplotlib.figure.Figure at 0x117a8b240>"
      ]
     },
     "metadata": {},
     "output_type": "display_data"
    },
    {
     "name": "stdout",
     "output_type": "stream",
     "text": [
      "13\n"
     ]
    },
    {
     "data": {
      "image/png": "[encoded data removed]",
      "text/plain": [
       "<matplotlib.figure.Figure at 0x1180c2940>"
      ]
     },
     "metadata": {},
     "output_type": "display_data"
    },
    {
     "name": "stdout",
     "output_type": "stream",
     "text": [
      "12\n"
     ]
    },
    {
     "data": {
      "image/png": "[encoded data removed]",
      "text/plain": [
       "<matplotlib.figure.Figure at 0x117fe9a20>"
      ]
     },
     "metadata": {},
     "output_type": "display_data"
    },
    {
     "name": "stdout",
     "output_type": "stream",
     "text": [
      "7\n"
     ]
    },
    {
     "data": {
      "image/png": "[encoded data removed]",
      "text/plain": [
       "<matplotlib.figure.Figure at 0x117cf77f0>"
      ]
     },
     "metadata": {},
     "output_type": "display_data"
    },
    {
     "name": "stdout",
     "output_type": "stream",
     "text": [
      "2\n"
     ]
    },
    {
     "data": {
      "image/png": "[encoded data removed]",
      "text/plain": [
       "<matplotlib.figure.Figure at 0x117b12390>"
      ]
     },
     "metadata": {},
     "output_type": "display_data"
    },
    {
     "name": "stdout",
     "output_type": "stream",
     "text": [
      "6\n"
     ]
    },
    {
     "data": {
      "image/png": "[encoded data removed]",
      "text/plain": [
       "<matplotlib.figure.Figure at 0x11686a7f0>"
      ]
     },
     "metadata": {},
     "output_type": "display_data"
    }
   ],
   "source": [
    "for value in grid['district'].unique():\n",
    "    df = grid[grid.district==value]\n",
    "    plt.scatter(df['x'], df['y'], s=df['count'], c=df['district'],alpha=0.5)\n",
    "    axes = plt.gca()\n",
    "    axes.set_xlim([0,10])\n",
    "    axes.set_ylim([0,10])\n",
    "    print(len(df))\n",
    "    plt.show()"
   ]
  },
  {
   "cell_type": "code",
   "execution_count": 833,
   "metadata": {},
   "outputs": [
    {
     "data": {
      "text/plain": [
       "2.0     39\n",
       "1.0     29\n",
       "16.0    18\n",
       "5.0     17\n",
       "13.0    14\n",
       "17.0    13\n",
       "6.0     13\n",
       "3.0     12\n",
       "25.0    11\n",
       "22.0    11\n",
       "28.0    11\n",
       "21.0    11\n",
       "14.0    11\n",
       "24.0    11\n",
       "15.0    11\n",
       "4.0     11\n",
       "29.0    11\n",
       "12.0    10\n",
       "26.0    10\n",
       "23.0    10\n",
       "18.0    10\n",
       "11.0     9\n",
       "8.0      9\n",
       "20.0     9\n",
       "19.0     7\n",
       "7.0      7\n",
       "27.0     6\n",
       "10.0     6\n",
       "9.0      2\n",
       "Name: district, dtype: int64"
      ]
     },
     "execution_count": 833,
     "metadata": {},
     "output_type": "execute_result"
    }
   ],
   "source": [
    "grid.district.value_counts()"
   ]
  },
  {
   "cell_type": "code",
   "execution_count": null,
   "metadata": {},
   "outputs": [],
   "source": []
  }
 ],
 "metadata": {
  "kernelspec": {
   "display_name": "Python 3",
   "language": "python",
   "name": "python3"
  },
  "language_info": {
   "codemirror_mode": {
    "name": "ipython",
    "version": 3
   },
   "file_extension": ".py",
   "mimetype": "text/x-python",
   "name": "python",
   "nbconvert_exporter": "python",
   "pygments_lexer": "ipython3",
   "version": "3.5.2"
  }
 },
 "nbformat": 4,
 "nbformat_minor": 2
}
